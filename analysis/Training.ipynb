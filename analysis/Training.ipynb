{
 "cells": [
  {
   "cell_type": "markdown",
   "metadata": {},
   "source": [
    "# Exemplary Training: Q-Learning, SARSA and DQN\n",
    "\n",
    "\n",
    "\n",
    "This notebook aims to demonstrate the training process of an agent in practise. For simplicity only the stowage planning problem for a small RORO deck is shown with the loading list outlined in the corresponding thesis (for algorithms default values have been defined which may be found in the annex of the thesis)\n",
    "\n",
    "On the other hand the notebook `Example.ipynb` shows  how an already trained model could be used in practise.\n"
   ]
  },
  {
   "cell_type": "markdown",
   "metadata": {},
   "source": [
    "***\n",
    "## Imports\n",
    "\n",
    "Firstly various modules are imported (including agent classes, environment classes, a plotting unit and a logger)"
   ]
  },
  {
   "cell_type": "code",
   "execution_count": 1,
   "metadata": {},
   "outputs": [
    {
     "name": "stderr",
     "output_type": "stream",
     "text": [
      "Using TensorFlow backend.\n"
     ]
    }
   ],
   "source": [
    "import os\n",
    "import sys\n",
    "sys.path.insert(0, os.path.abspath('../'))\n",
    "module_path = str(os.getcwd())+'\\\\out\\\\'\n",
    "\n",
    "from plotter import Plotter\n",
    "from valuation.evaluator import *\n",
    "from loggingUnit import LoggingBase\n",
    "from env.roroDeck import RoRoDeck\n",
    "from agent import sarsa, tdq, dqn\n",
    "#from agent.tdq import tdq\n",
    "#from agent.sarsa import sarsa\n",
    "#from agent.dqn import dqn\n",
    "import logging"
   ]
  },
  {
   "cell_type": "markdown",
   "metadata": {},
   "source": [
    "***\n",
    "## Register logger and set training duration\n",
    "\n",
    "The first step is to register the logging unit. This will also set the output path where the trained models will be saved. Furthermore it has to be decided on how many iterations the agent should be trained. If this is not set the agent will fall back on default values."
   ]
  },
  {
   "cell_type": "code",
   "execution_count": 2,
   "metadata": {},
   "outputs": [
    {
     "name": "stdout",
     "output_type": "stream",
     "text": [
      "Training outputs will be save to:\n",
      "C:\\Users\\braun\\Documents\\Masterarbeit\\analysis\\out\\20200815\\1724\\1724\n"
     ]
    }
   ],
   "source": [
    "# Register Output path and Logger\n",
    "loggingBase = LoggingBase()\n",
    "module_path = loggingBase.module_path\n",
    "\n",
    "print('Training outputs will be save to:\\n'+module_path)"
   ]
  },
  {
   "cell_type": "code",
   "execution_count": 3,
   "metadata": {},
   "outputs": [],
   "source": [
    "number_of_episodes = 10_000"
   ]
  },
  {
   "cell_type": "code",
   "execution_count": 4,
   "metadata": {},
   "outputs": [],
   "source": [
    "# Choose algorithm from list\n",
    "algorithms = ['SARSA','TDQ','DQN']\n",
    "algorithm = algorithms[0]"
   ]
  },
  {
   "cell_type": "markdown",
   "metadata": {},
   "source": [
    "***\n",
    "## Initalise the environment\n",
    "\n",
    "Secondly the environment is initialised. It can be decided the size of the environment and if it should behave stochasticly. If `stochastic` is set to true than the agent will behave with probability $p$ (`env.p`) determinisitic in a sense that the cargo type chosen by the agent is actually loaded. Subsequently, a random cargo type is loaded with probability $1-p$.\n",
    "\n",
    "**Note:** In the thesis the environment is said to be deterministic. Since deviations are not assumed to happen regularly.\n",
    "\n",
    "The `vehicle_data` variable corresponds to the loading list which may be changed by the user. After every change the environment needs to be reset.\n",
    "\n",
    "The `reset()`-method will return the representation of the intial state."
   ]
  },
  {
   "cell_type": "code",
   "execution_count": 6,
   "metadata": {},
   "outputs": [
    {
     "name": "stdout",
     "output_type": "stream",
     "text": [
      "-----------Loading Sequence----------------------------------------------------------------\n",
      "X\tX\tX\tX\tX\tX\tX\tX\t\n",
      "\n",
      "X\tX\tX\t-\t-\tX\tX\tX\t\n",
      "\n",
      "X\tX\t-\t-\t-\t-\tX\tX\t\n",
      "\n",
      "X\t-\t-\t-\t-\t-\t-\tX\t\n",
      "\n",
      "-\t-\t-\t-\t-\t-\t-\t-\t\n",
      "\n",
      "-\t-\t-\t-\t-\t-\t-\t-\t\n",
      "\n",
      "-\t-\t-\t-\t-\t-\t-\t-\t\n",
      "\n",
      "-\t-\t-\t-\t-\t-\t-\t-\t\n",
      "\n",
      "-\t-\t-\t-\t-\t-\t-\t-\t\n",
      "\n",
      "-\t-\t-\t-\t-\t-\t-\t-\t\n",
      "\n",
      "-\t-\t-\t-\t-\t-\t-\t-\t\n",
      "\n",
      "-\t-\t-\t-\t-\t-\t-\t-\t\n",
      "\n",
      "-\t-\t-\t-\t-\t-\t-\t-\t\n",
      "\n",
      "-\t-\t-\t-\t-\t-\t-\t-\t\n",
      "\n",
      "-----------VehicleType--------------------------------------------------------------------\n",
      "X\tX\tX\tX\tX\tX\tX\tX\t\n",
      "\n",
      "X\tX\tX\t-\t-\tX\tX\tX\t\n",
      "\n",
      "X\tX\t-\t-\t-\t-\tX\tX\t\n",
      "\n",
      "X\t-\t-\t-\t-\t-\t-\tX\t\n",
      "\n",
      "-\t-\t-\t-\t-\t-\t-\t-\t\n",
      "\n",
      "-\t-\t-\t-\t-\t-\t-\t-\t\n",
      "\n",
      "-\t-\t-\t-\t-\t-\t-\t-\t\n",
      "\n",
      "-\t-\t-\t-\t-\t-\t-\t-\t\n",
      "\n",
      "-\t-\t-\t-\t-\t-\t-\t-\t\n",
      "\n",
      "-\t-\t-\t-\t-\t-\t-\t-\t\n",
      "\n",
      "-\t-\t-\t-\t-\t-\t-\t-\t\n",
      "\n",
      "-\t-\t-\t-\t-\t-\t-\t-\t\n",
      "\n",
      "-\t-\t-\t-\t-\t-\t-\t-\t\n",
      "\n",
      "-\t-\t-\t-\t-\t-\t-\t-\t\n",
      "\n",
      "-----------Destination--------------------------------------------------------------------\n",
      "X\tX\tX\tX\tX\tX\tX\tX\t\n",
      "\n",
      "X\tX\tX\t-\t-\tX\tX\tX\t\n",
      "\n",
      "X\tX\t-\t-\t-\t-\tX\tX\t\n",
      "\n",
      "X\t-\t-\t-\t-\t-\t-\tX\t\n",
      "\n",
      "-\t-\t-\t-\t-\t-\t-\t-\t\n",
      "\n",
      "-\t-\t-\t-\t-\t-\t-\t-\t\n",
      "\n",
      "-\t-\t-\t-\t-\t-\t-\t-\t\n",
      "\n",
      "-\t-\t-\t-\t-\t-\t-\t-\t\n",
      "\n",
      "-\t-\t-\t-\t-\t-\t-\t-\t\n",
      "\n",
      "-\t-\t-\t-\t-\t-\t-\t-\t\n",
      "\n",
      "-\t-\t-\t-\t-\t-\t-\t-\t\n",
      "\n",
      "-\t-\t-\t-\t-\t-\t-\t-\t\n",
      "\n",
      "-\t-\t-\t-\t-\t-\t-\t-\t\n",
      "\n",
      "-\t-\t-\t-\t-\t-\t-\t-\t\n",
      "\n",
      "\n"
     ]
    }
   ],
   "source": [
    "env = RoRoDeck(False,rows=14,lanes=8, stochastic=False)\n",
    "\n",
    "env.reset()\n",
    "env.render()"
   ]
  },
  {
   "cell_type": "markdown",
   "metadata": {},
   "source": [
    "***\n",
    "## Train the agent\n",
    "\n",
    "Train the agent with the environment.\n",
    "The user may choose between different algorithms:\n",
    "- TDQ-Learning\n",
    "- SARSA\n",
    "- Deep Q-Learning (DQN)\n",
    "\n",
    "The training is started by calling `agent.train()`. After the last training episode the `train()`-method will show a grid representation of the final stowage plan.\n",
    "\n",
    "**Important Note:** The run time of this method might depend on how much memory is already used for Jupyter-Notebooks and on the browser settings. The `main`-method of `training.py` is demonstrating the usage equivalently and might run faster."
   ]
  },
  {
   "cell_type": "code",
   "execution_count": 8,
   "metadata": {
    "scrolled": true
   },
   "outputs": [
    {
     "name": "stdout",
     "output_type": "stream",
     "text": [
      "Train agent with SARSA\n",
      "\n",
      "Start Training Process\n",
      "episode  500 \tscore -136.02 \tavg. score -138.57\n",
      "episode  1000 \tscore -148.05 \tavg. score -143.12\n",
      "episode  1500 \tscore -100.03 \tavg. score -137.42\n",
      "episode  2000 \tscore -176.04 \tavg. score -142.02\n",
      "episode  2500 \tscore -120.02 \tavg. score -136.47\n",
      "episode  3000 \tscore -188.04 \tavg. score -124.79\n",
      "episode  3500 \tscore -112.04 \tavg. score -124.04\n",
      "episode  4000 \tscore -140.03 \tavg. score -119.68\n",
      "episode  4500 \tscore -88.04 \tavg. score -107.40\n",
      "episode  5000 \tscore -188.04 \tavg. score -96.75\n",
      "episode  5500 \tscore -76.02 \tavg. score -91.99\n",
      "episode  6000 \tscore -140.03 \tavg. score -99.36\n",
      "episode  6500 \tscore -36.04 \tavg. score -96.07\n",
      "episode  7000 \tscore -128.02 \tavg. score -74.33\n",
      "episode  7500 \tscore -92.04 \tavg. score -65.70\n",
      "episode  8000 \tscore -24.03 \tavg. score -51.12\n",
      "episode  8500 \tscore -80.05 \tavg. score -36.27\n",
      "episode  9000 \tscore -40.04 \tavg. score -21.29\n",
      "episode  9500 \tscore -0.02 \tavg. score 5.52\n",
      "The reward of the last training episode was 23.971491304347822\n",
      "The Terminal reward was -0.03250869565217391\n",
      "Finished training after 1 min 60.0 sec. \n",
      "\n",
      "Save output to: \n",
      "C:\\Users\\braun\\Documents\\Masterarbeit\\analysis\\out\\20200815\\1724\\1724\n",
      "\n",
      "Information on Agent:\n",
      "orig:\t\t\t\t\tTrue\n",
      "number_of_episodes:\t\t\t10000\n",
      "q_table size:\t\t\t\t172935\n",
      "EPSdec:\t\t\t\t\t0.999995\n",
      "EPSmin:\t\t\t\t\t0.001\n",
      "GAMMA:\t\t\t\t\t0.999\n",
      "path:\t\t\t\t\tC:\\Users\\braun\\Documents\\Masterarbeit\\analysis\\out\\20200815\\1724\\1724\n",
      "env:\t\t\t\t\t<RoRoDeck instance>\n",
      "eps_history size:\t\t\t10000\n",
      "ALPHA:\t\t\t\t\t0.1\n",
      "EPS:\t\t\t\t\t0.001\n",
      "MAX_IT:\t\t\t\t\t400\n",
      "action_space_length:\t\t\t5\n",
      "action_ix size:\t\t\t\t5\n",
      "epReward:\t\t\t\t0\n",
      "total_rewards size:\t\t\t10000\n",
      "state_expansion size:\t\t\t10000\n",
      "steps_to_exit size:\t\t\t10000\n",
      "training_time:\t\t\t\t119.7300214767456\n",
      "\n"
     ]
    }
   ],
   "source": [
    "# If DQN is used the number of episodes should not exceed roughly 14_000 (default value)\n",
    "# to solve the problem in reasonable time if GPU cannot be used for training\n",
    "\n",
    "if algorithm is 'DQN':\n",
    "    assert 5_000 <=number_of_episodes <= 14_000\n",
    "\n",
    "\n",
    "print('Train agent with '+algorithm+'\\n')\n",
    "\n",
    "if algorithm == 'SARSA':\n",
    "    agent = sarsa.SARSA(env, module_path, number_of_episodes)\n",
    "elif algorithm == 'TDQ':\n",
    "    agent = tdq.TDQLearning(env, module_path, number_of_episodes)\n",
    "else:\n",
    "    agent = dqn.DQNAgent(env=env, module_path=module_path, gamma=0.999, number_of_episodes=number_of_episodes, epsilon=1.0,\n",
    "                     alpha=0.0005,\n",
    "                     mem_size=1_000_000, pretraining_duration=10_000,\n",
    "                     batch_size=32, epsilon_min=0.01, epsilon_dec=0.99999, layers= [128,128])\n",
    "    \n",
    "# Call train-method\n",
    "model, total_rewards, vehicle_loaded, eps_history, state_expansion = agent.train()\n",
    "# Save model to output path\n",
    "agent.save_model(module_path)\n",
    "\n",
    "print(agent.get_info())"
   ]
  },
  {
   "cell_type": "markdown",
   "metadata": {},
   "source": [
    "***\n",
    "## Plot training performance\n",
    "\n",
    "This will plot:\n",
    "1. Reward over time\n",
    "2. The size of the Q-table if this was a tabular method (State Expansion).\n",
    "3. The steps to finish (also how may vehicles are loaded to the deck)\n",
    "4. The $\\epsilon$-development over time for $\\epsilon$-greedy exploration.\n",
    "\n",
    "**Note:** The smothing window will smooth the ouput plots to make trends more visible. It will take the average of the last $n$ iterations where $n$ corresponds to the number defined by the variable `smoothing_window`. This is highly recommended."
   ]
  },
  {
   "cell_type": "code",
   "execution_count": 9,
   "metadata": {},
   "outputs": [
    {
     "data": {
      "image/png": "[encoded data removed]",
      "text/plain": [
       "<Figure size 424.8x273.6 with 1 Axes>"
      ]
     },
     "metadata": {
      "needs_background": "light"
     },
     "output_type": "display_data"
    },
    {
     "data": {
      "image/png": "[encoded data removed]",
      "text/plain": [
       "<Figure size 424.8x252 with 1 Axes>"
      ]
     },
     "metadata": {
      "needs_background": "light"
     },
     "output_type": "display_data"
    },
    {
     "data": {
      "image/png": "[encoded data removed]",
      "text/plain": [
       "<Figure size 424.8x252 with 1 Axes>"
      ]
     },
     "metadata": {
      "needs_background": "light"
     },
     "output_type": "display_data"
    },
    {
     "data": {
      "image/png": "[encoded data removed]",
      "text/plain": [
       "<Figure size 424.8x252 with 1 Axes>"
      ]
     },
     "metadata": {
      "needs_background": "light"
     },
     "output_type": "display_data"
    }
   ],
   "source": [
    "plotter = Plotter(module_path, number_of_episodes, algorithm=algorithm, smoothing_window=200)\n",
    "plotter.plot(total_rewards, state_expansion, vehicle_loaded, eps_history)"
   ]
  },
  {
   "cell_type": "markdown",
   "metadata": {},
   "source": [
    "***\n",
    "## Evaluation\n",
    "\n",
    "Evaluate the final stowage plan after execution always the best action.\n",
    "\n",
    "An optimal stowage plan would result in:\n",
    "\n",
    "> Mandatory Cargo Loaded: 1.0\n",
    "\n",
    "This stowage plan will load 100% of the mandatory cargo and ...\n",
    "\n",
    "> Number of Shifts: 0.0\n",
    "\n",
    "... causes zero shifts.\n",
    "\n",
    "> Space Utilisation: 1.0\n",
    "\n",
    "Moreover the space would be used to 100%.\n",
    "\n",
    "\n",
    "The final stowage plan created by the agent evaluates as follows:"
   ]
  },
  {
   "cell_type": "code",
   "execution_count": 10,
   "metadata": {},
   "outputs": [
    {
     "name": "stdout",
     "output_type": "stream",
     "text": [
      "Mandatory Cargo Loaded: 1.0\n",
      "Number of Shifts: 0.0\n",
      "Space Utilisation: 0.967391304347826\n"
     ]
    }
   ],
   "source": [
    "evaluator = Evaluator(env.vehicle_data, env.grid)\n",
    "evaluation = evaluator.evaluate(env.get_stowage_plan())\n",
    "print(evaluation)"
   ]
  },
  {
   "cell_type": "code",
   "execution_count": 11,
   "metadata": {},
   "outputs": [
    {
     "data": {
      "text/plain": [
       "array([4, 3, 2, 1, 1, 2, 3, 4, 2, 2, 2, 2, 2, 2, 2, 2, 5, 5, 2, 0, 0, 0,\n",
       "       0, 1, 3])"
      ]
     },
     "execution_count": 11,
     "metadata": {},
     "output_type": "execute_result"
    }
   ],
   "source": [
    "env.reset()"
   ]
  },
  {
   "cell_type": "code",
   "execution_count": 12,
   "metadata": {},
   "outputs": [
    {
     "name": "stdout",
     "output_type": "stream",
     "text": [
      "-----------Loading Sequence----------------------------------------------------------------\n",
      "X\tX\tX\tX\tX\tX\tX\tX\t\n",
      "\n",
      "X\tX\tX\t-\t-\tX\tX\tX\t\n",
      "\n",
      "X\tX\t-\t-\t-\t-\tX\tX\t\n",
      "\n",
      "X\t-\t-\t-\t-\t-\t-\tX\t\n",
      "\n",
      "-\t-\t-\t-\t-\t-\t-\t-\t\n",
      "\n",
      "-\t-\t-\t-\t-\t-\t-\t-\t\n",
      "\n",
      "-\t-\t-\t-\t-\t-\t-\t-\t\n",
      "\n",
      "-\t-\t-\t-\t-\t-\t-\t-\t\n",
      "\n",
      "-\t-\t-\t-\t-\t-\t-\t-\t\n",
      "\n",
      "-\t-\t-\t-\t-\t-\t-\t-\t\n",
      "\n",
      "-\t-\t-\t-\t-\t-\t-\t-\t\n",
      "\n",
      "-\t-\t-\t-\t-\t-\t-\t-\t\n",
      "\n",
      "-\t-\t-\t-\t-\t-\t-\t-\t\n",
      "\n",
      "-\t-\t-\t-\t-\t-\t-\t-\t\n",
      "\n",
      "-----------VehicleType--------------------------------------------------------------------\n",
      "X\tX\tX\tX\tX\tX\tX\tX\t\n",
      "\n",
      "X\tX\tX\t-\t-\tX\tX\tX\t\n",
      "\n",
      "X\tX\t-\t-\t-\t-\tX\tX\t\n",
      "\n",
      "X\t-\t-\t-\t-\t-\t-\tX\t\n",
      "\n",
      "-\t-\t-\t-\t-\t-\t-\t-\t\n",
      "\n",
      "-\t-\t-\t-\t-\t-\t-\t-\t\n",
      "\n",
      "-\t-\t-\t-\t-\t-\t-\t-\t\n",
      "\n",
      "-\t-\t-\t-\t-\t-\t-\t-\t\n",
      "\n",
      "-\t-\t-\t-\t-\t-\t-\t-\t\n",
      "\n",
      "-\t-\t-\t-\t-\t-\t-\t-\t\n",
      "\n",
      "-\t-\t-\t-\t-\t-\t-\t-\t\n",
      "\n",
      "-\t-\t-\t-\t-\t-\t-\t-\t\n",
      "\n",
      "-\t-\t-\t-\t-\t-\t-\t-\t\n",
      "\n",
      "-\t-\t-\t-\t-\t-\t-\t-\t\n",
      "\n",
      "-----------Destination--------------------------------------------------------------------\n",
      "X\tX\tX\tX\tX\tX\tX\tX\t\n",
      "\n",
      "X\tX\tX\t-\t-\tX\tX\tX\t\n",
      "\n",
      "X\tX\t-\t-\t-\t-\tX\tX\t\n",
      "\n",
      "X\t-\t-\t-\t-\t-\t-\tX\t\n",
      "\n",
      "-\t-\t-\t-\t-\t-\t-\t-\t\n",
      "\n",
      "-\t-\t-\t-\t-\t-\t-\t-\t\n",
      "\n",
      "-\t-\t-\t-\t-\t-\t-\t-\t\n",
      "\n",
      "-\t-\t-\t-\t-\t-\t-\t-\t\n",
      "\n",
      "-\t-\t-\t-\t-\t-\t-\t-\t\n",
      "\n",
      "-\t-\t-\t-\t-\t-\t-\t-\t\n",
      "\n",
      "-\t-\t-\t-\t-\t-\t-\t-\t\n",
      "\n",
      "-\t-\t-\t-\t-\t-\t-\t-\t\n",
      "\n",
      "-\t-\t-\t-\t-\t-\t-\t-\t\n",
      "\n",
      "-\t-\t-\t-\t-\t-\t-\t-\t\n",
      "\n",
      "\n"
     ]
    }
   ],
   "source": [
    "env.render()"
   ]
  },
  {
   "cell_type": "code",
   "execution_count": null,
   "metadata": {},
   "outputs": [],
   "source": []
  }
 ],
 "metadata": {
  "kernelspec": {
   "display_name": "Python 3",
   "language": "python",
   "name": "python3"
  },
  "language_info": {
   "codemirror_mode": {
    "name": "ipython",
    "version": 3
   },
   "file_extension": ".py",
   "mimetype": "text/x-python",
   "name": "python",
   "nbconvert_exporter": "python",
   "pygments_lexer": "ipython3",
   "version": "3.7.3"
  }
 },
 "nbformat": 4,
 "nbformat_minor": 2
}
