{
 "cells": [
  {
   "cell_type": "markdown",
   "metadata": {},
   "source": [
    "# Exemplary Training: Q-Learning, SARSA and DQN\n",
    "\n",
    "\n",
    "\n",
    "This notebook aims to demonstrate the training process of an agent in practise. For simplicity only the stowage planning problem for a small RORO deck is shown with the loading list outlined in the corresponding thesis (for algorithms default values have been defined which may be found in the annex of the thesis)\n",
    "\n",
    "On the other hand the notebook `Example.ipynb` shows  how an already trained model could be used in practise.\n"
   ]
  },
  {
   "cell_type": "markdown",
   "metadata": {},
   "source": [
    "***\n",
    "## Imports\n",
    "\n",
    "Firstly various modules are imported (including agent classes, environment classes, a plotting unit and a logger)"
   ]
  },
  {
   "cell_type": "code",
   "execution_count": 1,
   "metadata": {},
   "outputs": [
    {
     "name": "stderr",
     "output_type": "stream",
     "text": [
      "Using TensorFlow backend.\n"
     ]
    }
   ],
   "source": [
    "import os\n",
    "import sys\n",
    "sys.path.insert(0, os.path.abspath('../'))\n",
    "module_path = str(os.getcwd())+'\\\\out\\\\'\n",
    "\n",
    "from analysis.plotter import Plotter\n",
    "from analysis.evaluator import *\n",
    "from analysis.loggingUnit import LoggingBase\n",
    "from env.roroDeck import RoRoDeck\n",
    "from agent import sarsa, tdq, dqn\n",
    "from analysis.algorithms import *\n",
    "\n",
    "import logging"
   ]
  },
  {
   "cell_type": "markdown",
   "metadata": {},
   "source": [
    "***\n",
    "## Register logger and set training duration\n",
    "\n",
    "The first step is to register the logging unit. This will also set the output path where the trained models will be saved. Furthermore it has to be decided on how many iterations the agent should be trained. If this is not set the agent will fall back on default values."
   ]
  },
  {
   "cell_type": "code",
   "execution_count": 2,
   "metadata": {},
   "outputs": [
    {
     "name": "stdout",
     "output_type": "stream",
     "text": [
      "Training outputs will be save to:\n",
      "C:\\Users\\braun\\Documents\\Masterarbeit\\analysis\\out\\20201118\\1927\\1927\n"
     ]
    }
   ],
   "source": [
    "# Register Output path and Logger\n",
    "loggingBase = LoggingBase()\n",
    "module_path = loggingBase.module_path\n",
    "\n",
    "print('Training outputs will be save to:\\n'+module_path)"
   ]
  },
  {
   "cell_type": "code",
   "execution_count": 3,
   "metadata": {},
   "outputs": [],
   "source": [
    "number_of_episodes = 6_000"
   ]
  },
  {
   "cell_type": "code",
   "execution_count": 4,
   "metadata": {},
   "outputs": [],
   "source": [
    "# Choose algorithm from list\n",
    "algorithms = ['SARSA','TDQ','DQN']\n",
    "algorithm = algorithms[0]"
   ]
  },
  {
   "cell_type": "markdown",
   "metadata": {},
   "source": [
    "***\n",
    "## Initalise the environment\n",
    "\n",
    "Secondly the environment is initialised. It can be decided the size of the environment and if it should behave stochasticly. If `stochastic` is set to true than the agent will behave with probability $p$ (`env.p`) determinisitic in a sense that the cargo type chosen by the agent is actually loaded. Subsequently, a random cargo type is loaded with probability $1-p$.\n",
    "\n",
    "**Note:** In the thesis the environment is said to be deterministic. Since deviations are not assumed to happen regularly.\n",
    "\n",
    "The `vehicle_data` variable corresponds to the loading list which may be changed by the user. After every change the environment needs to be reset.\n",
    "\n",
    "The `reset()`-method will return the representation of the intial state."
   ]
  },
  {
   "cell_type": "code",
   "execution_count": 5,
   "metadata": {},
   "outputs": [
    {
     "name": "stdout",
     "output_type": "stream",
     "text": [
      "-----------Loading Sequence----------------------------------------------------------------\n",
      "X\tX\tX\tX\tX\tX\tX\tX\t\n",
      "\n",
      "X\tX\tX\t-\t-\tX\tX\tX\t\n",
      "\n",
      "X\tX\t-\t-\t-\t-\tX\tX\t\n",
      "\n",
      "X\t-\t-\t-\t-\t-\t-\tX\t\n",
      "\n",
      "-\t-\t-\t-\t-\t-\t-\t-\t\n",
      "\n",
      "-\t-\t-\t-\t-\t-\t-\t-\t\n",
      "\n",
      "-\t-\t-\t-\t-\t-\t-\t-\t\n",
      "\n",
      "-\t-\t-\t-\t-\t-\t-\t-\t\n",
      "\n",
      "-\t-\t-\t-\t-\t-\t-\t-\t\n",
      "\n",
      "-\t-\t-\t-\t-\t-\t-\t-\t\n",
      "\n",
      "-\t-\t-\t-\t-\t-\t-\t-\t\n",
      "\n",
      "-\t-\t-\t-\t-\t-\t-\t-\t\n",
      "\n",
      "-----------VehicleType--------------------------------------------------------------------\n",
      "X\tX\tX\tX\tX\tX\tX\tX\t\n",
      "\n",
      "X\tX\tX\t-\t-\tX\tX\tX\t\n",
      "\n",
      "X\tX\t-\t-\t-\t-\tX\tX\t\n",
      "\n",
      "X\t-\t-\t-\t-\t-\t-\tX\t\n",
      "\n",
      "-\t-\t-\t-\t-\t-\t-\t-\t\n",
      "\n",
      "-\t-\t-\t-\t-\t-\t-\t-\t\n",
      "\n",
      "-\t-\t-\t-\t-\t-\t-\t-\t\n",
      "\n",
      "-\t-\t-\t-\t-\t-\t-\t-\t\n",
      "\n",
      "-\t-\t-\t-\t-\t-\t-\t-\t\n",
      "\n",
      "-\t-\t-\t-\t-\t-\t-\t-\t\n",
      "\n",
      "-\t-\t-\t-\t-\t-\t-\t-\t\n",
      "\n",
      "-\t-\t-\t-\t-\t-\t-\t-\t\n",
      "\n",
      "-----------Destination--------------------------------------------------------------------\n",
      "X\tX\tX\tX\tX\tX\tX\tX\t\n",
      "\n",
      "X\tX\tX\t-\t-\tX\tX\tX\t\n",
      "\n",
      "X\tX\t-\t-\t-\t-\tX\tX\t\n",
      "\n",
      "X\t-\t-\t-\t-\t-\t-\tX\t\n",
      "\n",
      "-\t-\t-\t-\t-\t-\t-\t-\t\n",
      "\n",
      "-\t-\t-\t-\t-\t-\t-\t-\t\n",
      "\n",
      "-\t-\t-\t-\t-\t-\t-\t-\t\n",
      "\n",
      "-\t-\t-\t-\t-\t-\t-\t-\t\n",
      "\n",
      "-\t-\t-\t-\t-\t-\t-\t-\t\n",
      "\n",
      "-\t-\t-\t-\t-\t-\t-\t-\t\n",
      "\n",
      "-\t-\t-\t-\t-\t-\t-\t-\t\n",
      "\n",
      "-\t-\t-\t-\t-\t-\t-\t-\t\n",
      "\n",
      "\n"
     ]
    }
   ],
   "source": [
    "l1 = np.array([[ 0,  1,  2,  3,  4],\n",
    "       [ 5,  5, -1, -1,  2],\n",
    "       [ 1,  1,  0,  0,  1],\n",
    "       [ 1,  2,  1,  2,  2],\n",
    "       [ 3,  4,  2,  3,  2],\n",
    "       [ 0,  0,  0,  0,  1]])\n",
    "\n",
    "l2 = np.array([[ 0,  1,  2,  3,  4,  5,  6],\n",
    "       [ 5,  5, -1, -1,  2,  2,  2],\n",
    "       [ 1,  1,  0,  0,  1,  1,  1],\n",
    "       [ 1,  2,  1,  2,  2,  1,  2],\n",
    "       [ 2,  3,  2,  3,  2,  2,  3],\n",
    "       [ 0,  0,  0,  0,  1,  0,  0]])\n",
    "\n",
    "\n",
    "\n",
    "env = RoRoDeck(lanes=8, rows=12)\n",
    "\n",
    "env.reset()\n",
    "env.render()"
   ]
  },
  {
   "cell_type": "markdown",
   "metadata": {},
   "source": [
    "***\n",
    "## Train the agent\n",
    "\n",
    "Train the agent with the environment.\n",
    "The user may choose between different algorithms:\n",
    "- TDQ-Learning\n",
    "- SARSA\n",
    "- Deep Q-Learning (DQN)\n",
    "\n",
    "The training is started by calling `agent.train()`. After the last training episode the `train()`-method will show a grid representation of the final stowage plan.\n",
    "\n",
    "**Important Note:** The run time of this method might depend on how much memory is already used for Jupyter-Notebooks and on the browser settings. The `main`-method of `training.py` is demonstrating the usage equivalently and might run faster."
   ]
  },
  {
   "cell_type": "code",
   "execution_count": 6,
   "metadata": {
    "scrolled": true
   },
   "outputs": [
    {
     "name": "stdout",
     "output_type": "stream",
     "text": [
      "Train agent with SARSA\n",
      "\n",
      "Start Training Process\n",
      "episode  500 \tscore -152.00 \tavg. score -126.15\n",
      "episode  1000 \tscore -104.02 \tavg. score -115.97\n",
      "episode  1500 \tscore -136.01 \tavg. score -121.40\n",
      "episode  2000 \tscore -128.01 \tavg. score -118.35\n",
      "episode  2500 \tscore -164.00 \tavg. score -102.35\n",
      "episode  3000 \tscore -163.99 \tavg. score -100.61\n",
      "episode  3500 \tscore -128.01 \tavg. score -94.00\n",
      "episode  4000 \tscore -40.03 \tavg. score -96.33\n",
      "episode  4500 \tscore -92.01 \tavg. score -81.12\n",
      "episode  5000 \tscore -104.02 \tavg. score -78.95\n",
      "episode  5500 \tscore -40.02 \tavg. score -77.16\n",
      "The reward of the last training episode was -79.9801578947368 (was deterministic)\n",
      "Finished training after 0 min 27.0 sec. \n",
      "\n",
      "Save output to: \n",
      "C:\\Users\\braun\\Documents\\Masterarbeit\\analysis\\out\\20201118\\1927\\1927\n",
      "\n",
      "Information on Agent:\n",
      "env:\t\t\t\t\t<env.roroDeck.RoRoDeck object at 0x000002802DC86710>\n",
      "path:\t\t\t\t\tC:\\Users\\braun\\Documents\\Masterarbeit\\analysis\\out\\20201118\\1927\\1927\n",
      "additional_info:\t\t\t\tNone\n",
      "number_of_episodes:\t\t\t6000\n",
      "epsilon:\t\t\t\t\t0.001\n",
      "epsilon_min:\t\t\t\t0.001\n",
      "alpha:\t\t\t\t\t0.1\n",
      "gamma:\t\t\t\t\t0.999\n",
      "q_table size:\t\t\t\t87069\n",
      "action_space_length:\t\t\t5\n",
      "action_ix size:\t\t\t\t5\n",
      "training_time:\t\t\t\t27.007267475128174\n",
      "total_rewards size:\t\t\t6000\n",
      "state_expansion size:\t\t\t6000\n",
      "loaded_cargo size:\t\t\t6000\n",
      "eps_history size:\t\t\t6000\n",
      "\n"
     ]
    }
   ],
   "source": [
    "# If DQN is used the number of episodes should not exceed roughly 14_000 (default value)\n",
    "# to solve the problem in reasonable time if GPU cannot be used for training\n",
    "\n",
    "if algorithm is 'DQN':\n",
    "    assert 5_000 <=number_of_episodes <= 14_000\n",
    "\n",
    "\n",
    "print('Train agent with '+algorithm+'\\n')\n",
    "\n",
    "if algorithm == 'SARSA':\n",
    "    agent = sarsa.SARSA(env, module_path, number_of_episodes)\n",
    "elif algorithm == 'TDQ':\n",
    "    agent = tdq.TDQLearning(env, module_path, number_of_episodes)\n",
    "else:\n",
    "    agent = dqn.DQNAgent(env=env, module_path=module_path, gamma=0.999, number_of_episodes=number_of_episodes, epsilon=1.0,\n",
    "                     alpha=0.0005,\n",
    "                     mem_size=1_000_000, pretraining_duration=10_000,\n",
    "                     batch_size=32, epsilon_min=0.01, epsilon_dec=0.99999, layers= [128,128])\n",
    "    \n",
    "# Call train-method\n",
    "model, total_rewards, vehicle_loaded, eps_history, state_expansion = agent.train()\n",
    "# Save model to output path\n",
    "agent.save_model(module_path)\n",
    "\n",
    "print(agent.get_info())"
   ]
  },
  {
   "cell_type": "markdown",
   "metadata": {},
   "source": [
    "***\n",
    "## Plot training performance\n",
    "\n",
    "This will plot:\n",
    "1. Reward over time\n",
    "2. The size of the Q-table if this was a tabular method (State Expansion).\n",
    "3. The steps to finish (also how may vehicles are loaded to the deck)\n",
    "4. The $\\epsilon$-development over time for $\\epsilon$-greedy exploration.\n",
    "\n",
    "**Note:** The smothing window will smooth the ouput plots to make trends more visible. It will take the average of the last $n$ iterations where $n$ corresponds to the number defined by the variable `smoothing_window`. This is highly recommended."
   ]
  },
  {
   "cell_type": "code",
   "execution_count": 7,
   "metadata": {},
   "outputs": [
    {
     "data": {
      "image/png": "[encoded data removed]",
      "text/plain": [
       "<Figure size 424.8x273.6 with 1 Axes>"
      ]
     },
     "metadata": {
      "needs_background": "light"
     },
     "output_type": "display_data"
    },
    {
     "data": {
      "image/png": "[encoded data removed]",
      "text/plain": [
       "<Figure size 424.8x252 with 1 Axes>"
      ]
     },
     "metadata": {
      "needs_background": "light"
     },
     "output_type": "display_data"
    },
    {
     "data": {
      "image/png": "[encoded data removed]",
      "text/plain": [
       "<Figure size 424.8x252 with 1 Axes>"
      ]
     },
     "metadata": {
      "needs_background": "light"
     },
     "output_type": "display_data"
    },
    {
     "data": {
      "image/png": "[encoded data removed]",
      "text/plain": [
       "<Figure size 424.8x252 with 1 Axes>"
      ]
     },
     "metadata": {
      "needs_background": "light"
     },
     "output_type": "display_data"
    }
   ],
   "source": [
    "plotter = Plotter(module_path, number_of_episodes, algorithm=algorithm, smoothing_window=200, show_plot=True, show_title=True)\n",
    "plotter.plot(total_rewards, state_expansion, vehicle_loaded, eps_history)"
   ]
  },
  {
   "cell_type": "markdown",
   "metadata": {},
   "source": [
    "***\n",
    "## Evaluation\n",
    "\n",
    "Evaluate the final stowage plan after execution always the best action.\n",
    "\n",
    "An optimal stowage plan would result in:\n",
    "\n",
    "> Mandatory Cargo Loaded: 1.0\n",
    "\n",
    "This stowage plan will load 100% of the mandatory cargo and ...\n",
    "\n",
    "> Number of Shifts: 0.0\n",
    "\n",
    "... causes zero shifts.\n",
    "\n",
    "> Space Utilisation: 1.0\n",
    "\n",
    "Moreover the space would be used to 100%.\n",
    "\n",
    "\n",
    "The final stowage plan created by the agent evaluates as follows:"
   ]
  },
  {
   "cell_type": "code",
   "execution_count": 8,
   "metadata": {},
   "outputs": [
    {
     "name": "stdout",
     "output_type": "stream",
     "text": [
      "\n",
      "********************************************************************************\n",
      "Evaluation of Stowage Plan\n",
      "Mandatory Cargo Loaded:\t\t 0.8333333333333334\n",
      "Number of Shifts:\t\t 0.0\n",
      "Space Utilisation:\t\t 0.9868421052631579\n",
      "********************************************************************************\n"
     ]
    }
   ],
   "source": [
    "evaluator = Evaluator(env.vehicle_data, env.grid)\n",
    "evaluation = evaluator.evaluate(env.get_stowage_plan())\n",
    "print(evaluation)"
   ]
  },
  {
   "cell_type": "code",
   "execution_count": 9,
   "metadata": {},
   "outputs": [
    {
     "name": "stdout",
     "output_type": "stream",
     "text": [
      "\n",
      "********************************************************************************\n",
      "Training Evaluation Metrics:\n",
      "Average Reward of last 100 Episodes:\t\t\t\t-71.3669742105263\n",
      "Average Increase of Rewards in Training:\t\t\t0.010665315700267628\n",
      "\n"
     ]
    }
   ],
   "source": [
    "metrics, info = training_metrics(total_rewards)\n",
    "print(info)"
   ]
  },
  {
   "cell_type": "code",
   "execution_count": 10,
   "metadata": {},
   "outputs": [
    {
     "name": "stdout",
     "output_type": "stream",
     "text": [
      "-----------Loading Sequence----------------------------------------------------------------\n",
      "X\tX\tX\tX\tX\tX\tX\tX\t\n",
      "\n",
      "X\tX\tX\t1\t2\tX\tX\tX\t\n",
      "\n",
      "X\tX\t3\t1\t2\t4\tX\tX\t\n",
      "\n",
      "X\t5\t3\t1\t2\t4\t6\tX\t\n",
      "\n",
      "7\t5\t3\t8\t9\t4\t6\t10\t\n",
      "\n",
      "7\t11\t12\t8\t9\t13\t6\t10\t\n",
      "\n",
      "14\t11\t12\t15\t16\t13\t17\t10\t\n",
      "\n",
      "14\t18\t12\t15\t16\t13\t17\t19\t\n",
      "\n",
      "20\t18\t21\t22\t23\t24\t25\t19\t\n",
      "\n",
      "20\t26\t21\t22\t23\t24\t25\t19\t\n",
      "\n",
      "27\t26\t28\t29\t30\t31\t32\t33\t\n",
      "\n",
      "27\t-\t28\t29\t30\t31\t32\t33\t\n",
      "\n",
      "-----------VehicleType--------------------------------------------------------------------\n",
      "X\tX\tX\tX\tX\tX\tX\tX\t\n",
      "\n",
      "X\tX\tX\t1\t1\tX\tX\tX\t\n",
      "\n",
      "X\tX\t1\t1\t1\t1\tX\tX\t\n",
      "\n",
      "X\t0\t1\t1\t1\t1\t1\tX\t\n",
      "\n",
      "0\t0\t1\t0\t0\t1\t1\t3\t\n",
      "\n",
      "0\t0\t3\t0\t0\t3\t1\t3\t\n",
      "\n",
      "2\t0\t3\t2\t2\t3\t2\t3\t\n",
      "\n",
      "2\t2\t3\t2\t2\t3\t2\t3\t\n",
      "\n",
      "2\t2\t2\t2\t2\t2\t2\t3\t\n",
      "\n",
      "2\t2\t2\t2\t2\t2\t2\t3\t\n",
      "\n",
      "2\t2\t2\t2\t2\t2\t2\t2\t\n",
      "\n",
      "2\t-\t2\t2\t2\t2\t2\t2\t\n",
      "\n",
      "-----------Destination--------------------------------------------------------------------\n",
      "X\tX\tX\tX\tX\tX\tX\tX\t\n",
      "\n",
      "X\tX\tX\t2\t2\tX\tX\tX\t\n",
      "\n",
      "X\tX\t2\t2\t2\t2\tX\tX\t\n",
      "\n",
      "X\t1\t2\t2\t2\t2\t2\tX\t\n",
      "\n",
      "1\t1\t2\t1\t1\t2\t2\t2\t\n",
      "\n",
      "1\t1\t2\t1\t1\t2\t2\t2\t\n",
      "\n",
      "1\t1\t2\t1\t1\t2\t1\t2\t\n",
      "\n",
      "1\t1\t2\t1\t1\t2\t1\t2\t\n",
      "\n",
      "1\t1\t1\t1\t1\t1\t1\t2\t\n",
      "\n",
      "1\t1\t1\t1\t1\t1\t1\t2\t\n",
      "\n",
      "1\t1\t1\t1\t1\t1\t1\t1\t\n",
      "\n",
      "1\t-\t1\t1\t1\t1\t1\t1\t\n",
      "\n",
      "\n"
     ]
    }
   ],
   "source": [
    "env.render()"
   ]
  }
 ],
 "metadata": {
  "kernelspec": {
   "display_name": "Python 3",
   "language": "python",
   "name": "python3"
  },
  "language_info": {
   "codemirror_mode": {
    "name": "ipython",
    "version": 3
   },
   "file_extension": ".py",
   "mimetype": "text/x-python",
   "name": "python",
   "nbconvert_exporter": "python",
   "pygments_lexer": "ipython3",
   "version": "3.7.3"
  }
 },
 "nbformat": 4,
 "nbformat_minor": 2
}
