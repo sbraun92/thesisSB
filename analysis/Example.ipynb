{
 "cells": [
  {
   "cell_type": "markdown",
   "metadata": {},
   "source": [
    "# Example Stowage Planning with RL"
   ]
  },
  {
   "cell_type": "markdown",
   "metadata": {},
   "source": [
    "Imports for usage"
   ]
  },
  {
   "cell_type": "code",
   "execution_count": 1,
   "metadata": {},
   "outputs": [
    {
     "name": "stderr",
     "output_type": "stream",
     "text": [
      "Using TensorFlow backend.\n"
     ]
    }
   ],
   "source": [
    "import os\n",
    "import sys\n",
    "sys.path.insert(0, os.path.abspath('../'))\n",
    "module_path = str(os.getcwd())+'\\\\out\\\\'\n",
    "\n",
    "from env import roroDeck\n",
    "from agent import sarsa, tdq\n",
    "from analysis import *\n",
    "from algorithms.Algorithms import *\n",
    "from valuation import evaluator as evm\n",
    "#from valuation import evaluation\n",
    "#from viz import *\n",
    "from agent.dqn import DQNAgent\n",
    "import pickle\n",
    "\n",
    "\n",
    "\n",
    "from keras.models import Sequential, load_model\n",
    "import numpy as np"
   ]
  },
  {
   "cell_type": "markdown",
   "metadata": {},
   "source": [
    "## Load a model and show input data"
   ]
  },
  {
   "cell_type": "code",
   "execution_count": 2,
   "metadata": {},
   "outputs": [
    {
     "name": "stdout",
     "output_type": "stream",
     "text": [
      "Algorithm: SARSA\n",
      "GAMMA: 0.999\n",
      "ALPHA: 0.1\n",
      "Episodes: 10000\n",
      "EnvLanes:: 8\n",
      "EnvRows: 10\n",
      "VehicleData: [[ 0  1  2  3  4]\n",
      " [ 1  2  1  2  2]\n",
      " [ 1  1  0  0  1]\n",
      " [ 2  3  2  3  2]\n",
      " [ 5  5 -1 -1  2]\n",
      " [ 0  0  0  0  1]]\n",
      "TrainingTime: 32.00560426712036\n"
     ]
    }
   ],
   "source": [
    "env = roroDeck.RoRoDeck()\n",
    "evaluator = evm.Evaluator(env.vehicle_data, env.grid)\n",
    "agent = sarsa.SARSA(env,module_path)\n",
    "\n",
    "\n",
    "agent.load_model(module_path+\"20200805\\\\1421\\\\1421SARSA_L8_R10_Rf1_A5.p\")\n",
    "\n",
    "for info in agent.q_table[\"ModelParam\"]:\n",
    "    print(info +': '+ str(agent.q_table[\"ModelParam\"][info]))\n",
    "#print(agent.get_info())"
   ]
  },
  {
   "cell_type": "code",
   "execution_count": 3,
   "metadata": {},
   "outputs": [],
   "source": [
    "#env = roroDeck.RoRoDeck(False,12,14)\n",
    "#evaluator = evm.Evaluator(env.vehicle_data, env.grid)\n",
    "#agent = DQNAgent(env,module_path)\n",
    "\n",
    "#agent.load_model(module_path+\"20200618\\\\1644\\\\1644DQN_L12_R14_Rf1_A5\")\n",
    "#agent.q_eval.summary()"
   ]
  },
  {
   "cell_type": "code",
   "execution_count": 4,
   "metadata": {},
   "outputs": [],
   "source": [
    "#env = roroDeck.RoRoDeck(False,8,10)\n",
    "#evaluator = evm.Evaluator(env.vehicle_data, env.grid)\n",
    "#DQN_agent = DQNAgent(gamma=0.999, epsilon=1.0, alpha=0.0004, input_dims=np.shape(env.reset())[0], n_actions=5, mem_size=10000000, batch_size=32, epsilon_end=0.01, epsilon_dec= 0.999992)\n",
    "#DQN_agent.load_model(module_path+\"20200428\\\\1045\\\\104520200427stochasticdqn_model.h5\")\n"
   ]
  },
  {
   "cell_type": "markdown",
   "metadata": {},
   "source": [
    "## Show the best stowage plan the agent found"
   ]
  },
  {
   "cell_type": "code",
   "execution_count": 5,
   "metadata": {},
   "outputs": [
    {
     "name": "stdout",
     "output_type": "stream",
     "text": [
      "-----------Loading Sequence----------------------------------------------------------------\n",
      "X\tX\tX\tX\tX\tX\tX\tX\t\n",
      "\n",
      "X\tX\tX\t1\t2\tX\tX\tX\t\n",
      "\n",
      "X\tX\t3\t1\t2\t4\tX\tX\t\n",
      "\n",
      "X\t5\t3\t1\t2\t4\t6\tX\t\n",
      "\n",
      "7\t5\t8\t9\t10\t4\t6\t11\t\n",
      "\n",
      "7\t5\t8\t9\t10\t12\t6\t11\t\n",
      "\n",
      "13\t14\t15\t16\t10\t12\t17\t18\t\n",
      "\n",
      "13\t14\t15\t16\t19\t20\t17\t18\t\n",
      "\n",
      "21\t22\t23\t24\t19\t20\t17\t25\t\n",
      "\n",
      "21\t22\t23\t24\t19\t-\t-\t25\t\n",
      "\n",
      "-----------VehicleType--------------------------------------------------------------------\n",
      "X\tX\tX\tX\tX\tX\tX\tX\t\n",
      "\n",
      "X\tX\tX\t1\t1\tX\tX\tX\t\n",
      "\n",
      "X\tX\t0\t1\t1\t1\tX\tX\t\n",
      "\n",
      "X\t1\t0\t1\t1\t1\t1\tX\t\n",
      "\n",
      "4\t1\t0\t0\t3\t1\t1\t0\t\n",
      "\n",
      "4\t1\t0\t0\t3\t0\t1\t0\t\n",
      "\n",
      "4\t2\t2\t2\t3\t0\t3\t2\t\n",
      "\n",
      "4\t2\t2\t2\t3\t2\t3\t2\t\n",
      "\n",
      "2\t2\t2\t2\t3\t2\t3\t2\t\n",
      "\n",
      "2\t2\t2\t2\t3\t-\t-\t2\t\n",
      "\n",
      "-----------Destination--------------------------------------------------------------------\n",
      "X\tX\tX\tX\tX\tX\tX\tX\t\n",
      "\n",
      "X\tX\tX\t2\t2\tX\tX\tX\t\n",
      "\n",
      "X\tX\t1\t2\t2\t2\tX\tX\t\n",
      "\n",
      "X\t2\t1\t2\t2\t2\t2\tX\t\n",
      "\n",
      "2\t2\t1\t1\t2\t2\t2\t1\t\n",
      "\n",
      "2\t2\t1\t1\t2\t1\t2\t1\t\n",
      "\n",
      "2\t1\t1\t1\t2\t1\t2\t1\t\n",
      "\n",
      "2\t1\t1\t1\t2\t1\t2\t1\t\n",
      "\n",
      "1\t1\t1\t1\t2\t1\t2\t1\t\n",
      "\n",
      "1\t1\t1\t1\t2\t-\t-\t1\t\n",
      "\n",
      "\n",
      "Mandatory Cargo Loaded: 1.0\n",
      "Number of Shifts: 0.0\n",
      "Space Utilisation: 0.9666666666666667\n"
     ]
    }
   ],
   "source": [
    "env.reset()\n",
    "#print(np.shape(env.current_state))\n",
    "#DQN_agent.execute(env)\n",
    "agent.execute(env)\n",
    "evaluation = evaluator.evaluate(env.get_stowage_plan())\n",
    "env.render()\n",
    "print(evaluation)"
   ]
  },
  {
   "cell_type": "markdown",
   "metadata": {},
   "source": [
    "Show the loading sequence which constructed this stowage plan "
   ]
  },
  {
   "cell_type": "code",
   "execution_count": 6,
   "metadata": {},
   "outputs": [
    {
     "name": "stdout",
     "output_type": "stream",
     "text": [
      "Loading Sequence of RORO-Deck (Lanes: 8 Rows: 10)\n",
      "\n",
      "1. Load Vehicle Type \t 1 \t in Lane: \t 3 \t Row: \t 1 \n",
      "2. Load Vehicle Type \t 1 \t in Lane: \t 4 \t Row: \t 1 \n",
      "3. Load Vehicle Type \t 0 \t in Lane: \t 2 \t Row: \t 2 \n",
      "4. Load Vehicle Type \t 1 \t in Lane: \t 5 \t Row: \t 2 \n",
      "5. Load Vehicle Type \t 1 \t in Lane: \t 1 \t Row: \t 3 \n",
      "6. Load Vehicle Type \t 1 \t in Lane: \t 6 \t Row: \t 3 \n",
      "7. Load Vehicle Type \t 4 \t in Lane: \t 0 \t Row: \t 4 \n",
      "8. Load Vehicle Type \t 0 \t in Lane: \t 2 \t Row: \t 4 \n",
      "9. Load Vehicle Type \t 0 \t in Lane: \t 3 \t Row: \t 4 \n",
      "10. Load Vehicle Type \t 3 \t in Lane: \t 4 \t Row: \t 4 \n",
      "11. Load Vehicle Type \t 0 \t in Lane: \t 7 \t Row: \t 4 \n",
      "12. Load Vehicle Type \t 0 \t in Lane: \t 5 \t Row: \t 5 \n",
      "13. Load Vehicle Type \t 4 \t in Lane: \t 0 \t Row: \t 6 \n",
      "14. Load Vehicle Type \t 2 \t in Lane: \t 1 \t Row: \t 6 \n",
      "15. Load Vehicle Type \t 2 \t in Lane: \t 2 \t Row: \t 6 \n",
      "16. Load Vehicle Type \t 2 \t in Lane: \t 3 \t Row: \t 6 \n",
      "17. Load Vehicle Type \t 3 \t in Lane: \t 6 \t Row: \t 6 \n",
      "18. Load Vehicle Type \t 2 \t in Lane: \t 7 \t Row: \t 6 \n",
      "19. Load Vehicle Type \t 3 \t in Lane: \t 4 \t Row: \t 7 \n",
      "20. Load Vehicle Type \t 2 \t in Lane: \t 5 \t Row: \t 7 \n",
      "21. Load Vehicle Type \t 2 \t in Lane: \t 0 \t Row: \t 8 \n",
      "22. Load Vehicle Type \t 2 \t in Lane: \t 1 \t Row: \t 8 \n",
      "23. Load Vehicle Type \t 2 \t in Lane: \t 2 \t Row: \t 8 \n",
      "24. Load Vehicle Type \t 2 \t in Lane: \t 3 \t Row: \t 8 \n",
      "25. Load Vehicle Type \t 2 \t in Lane: \t 7 \t Row: \t 8 \n",
      "\n"
     ]
    }
   ],
   "source": [
    "print(env.loading_sequence)"
   ]
  },
  {
   "cell_type": "markdown",
   "metadata": {},
   "source": [
    "## Construct a stowage plan sequentially\n",
    "\n",
    "Example of a an human-agent interaction:\n",
    "Agent shows the predictions for each action in a given state and recommends the best one.\n",
    "If the Environment is set to deterministic behaviour the stowage plan above is reconstructed if all recommendations are obeyed\n",
    "\n",
    "Usage (Type the following on the Keyboard and press Enter):\n",
    "\n",
    "0,1,2 &nbsp; &nbsp; &nbsp; &nbsp; *number from the list of possible actions*\n",
    "\n",
    "r &nbsp; &nbsp; &nbsp; &nbsp; &nbsp; &nbsp; &nbsp; *show the current state of the RORO-deck*\n",
    "\n",
    "b &nbsp; &nbsp; &nbsp; &nbsp; &nbsp; &nbsp; &nbsp;*follow the best action*\n",
    "\n",
    "f &nbsp; &nbsp; &nbsp; &nbsp; &nbsp; &nbsp; &nbsp;*stop interaction by only following the recommendations of agent*\n",
    "\n",
    "q &nbsp; &nbsp; &nbsp; &nbsp; &nbsp; &nbsp; &nbsp;*quit the execution*\n",
    "\n",
    "\n"
   ]
  },
  {
   "cell_type": "code",
   "execution_count": null,
   "metadata": {
    "scrolled": false
   },
   "outputs": [
    {
     "name": "stdout",
     "output_type": "stream",
     "text": [
      "\n",
      "1. Vehicle\n",
      "Possible Actions for Lane 3\n",
      "[0 1 2 3]\n",
      "Prediction of Agent:\n",
      "[11.19, 23.76, 8.65, 13.01]\n",
      "--> Choose: 1\n",
      "1\n",
      "\n",
      "2. Vehicle\n",
      "Possible Actions for Lane 4\n",
      "[0 1 2 3]\n",
      "Prediction of Agent:\n",
      "[9.97, 21.8, 9.06, 13.68]\n",
      "--> Choose: 1\n",
      "0\n",
      "\n",
      "3. Vehicle\n",
      "Possible Actions for Lane 2\n",
      "[0 1 2 3]\n",
      "Prediction of Agent:\n",
      "[9.15, 4.71, 4.17, 3.34]\n",
      "--> Choose: 0\n",
      "0\n",
      "\n",
      "4. Vehicle\n",
      "Possible Actions for Lane 5\n",
      "[0 1 2 3]\n",
      "Prediction of Agent:\n",
      "[8.17, 3.48, 2.12, 2.03]\n",
      "--> Choose: 0\n",
      "b\n",
      "\n",
      "5. Vehicle\n",
      "Possible Actions for Lane 1\n",
      "[0 1 2 3]\n",
      "Prediction of Agent:\n",
      "[7.26, 3.61, 1.54, 0.93]\n",
      "--> Choose: 0\n",
      "b\n",
      "\n",
      "6. Vehicle\n",
      "Possible Actions for Lane 4\n",
      "[0 1 2 3]\n",
      "Prediction of Agent:\n",
      "[6.2, -6.8, 0.55, -4.84]\n",
      "--> Choose: 0\n",
      "r\n",
      "-----------Loading Sequence----------------------------------------------------------------\n",
      "X\tX\tX\tX\tX\tX\tX\tX\t\n",
      "\n",
      "X\tX\tX\t1\t2\tX\tX\tX\t\n",
      "\n",
      "X\tX\t3\t1\t2\t4\tX\tX\t\n",
      "\n",
      "X\t5\t3\t1\t-\t4\t-\tX\t\n",
      "\n",
      "-\t5\t-\t-\t-\t-\t-\t-\t\n",
      "\n",
      "-\t-\t-\t-\t-\t-\t-\t-\t\n",
      "\n",
      "-\t-\t-\t-\t-\t-\t-\t-\t\n",
      "\n",
      "-\t-\t-\t-\t-\t-\t-\t-\t\n",
      "\n",
      "-\t-\t-\t-\t-\t-\t-\t-\t\n",
      "\n",
      "-\t-\t-\t-\t-\t-\t-\t-\t\n",
      "\n",
      "-----------VehicleType--------------------------------------------------------------------\n",
      "X\tX\tX\tX\tX\tX\tX\tX\t\n",
      "\n",
      "X\tX\tX\t1\t0\tX\tX\tX\t\n",
      "\n",
      "X\tX\t0\t1\t0\t0\tX\tX\t\n",
      "\n",
      "X\t0\t0\t1\t-\t0\t-\tX\t\n",
      "\n",
      "-\t0\t-\t-\t-\t-\t-\t-\t\n",
      "\n",
      "-\t-\t-\t-\t-\t-\t-\t-\t\n",
      "\n",
      "-\t-\t-\t-\t-\t-\t-\t-\t\n",
      "\n",
      "-\t-\t-\t-\t-\t-\t-\t-\t\n",
      "\n",
      "-\t-\t-\t-\t-\t-\t-\t-\t\n",
      "\n",
      "-\t-\t-\t-\t-\t-\t-\t-\t\n",
      "\n",
      "-----------Destination--------------------------------------------------------------------\n",
      "X\tX\tX\tX\tX\tX\tX\tX\t\n",
      "\n",
      "X\tX\tX\t2\t1\tX\tX\tX\t\n",
      "\n",
      "X\tX\t1\t2\t1\t1\tX\tX\t\n",
      "\n",
      "X\t1\t1\t2\t-\t1\t-\tX\t\n",
      "\n",
      "-\t1\t-\t-\t-\t-\t-\t-\t\n",
      "\n",
      "-\t-\t-\t-\t-\t-\t-\t-\t\n",
      "\n",
      "-\t-\t-\t-\t-\t-\t-\t-\t\n",
      "\n",
      "-\t-\t-\t-\t-\t-\t-\t-\t\n",
      "\n",
      "-\t-\t-\t-\t-\t-\t-\t-\t\n",
      "\n",
      "-\t-\t-\t-\t-\t-\t-\t-\t\n",
      "\n",
      "\n",
      "\n",
      "6. Vehicle\n",
      "Possible Actions for Lane 4\n",
      "[0 1 2 3]\n",
      "Prediction of Agent:\n",
      "[6.2, -6.8, 0.55, -4.84]\n",
      "--> Choose: 0\n"
     ]
    }
   ],
   "source": [
    "state = env.reset()\n",
    "done = False\n",
    "counter = 1\n",
    "while not done:\n",
    "    print(\"\\n\"+str(counter)+\". Vehicle\\nPossible Actions for Lane \"+str(env.current_Lane)\n",
    "          +\"\\n\"+str(env.possible_actions))\n",
    "    source = []\n",
    "    for action in env.possible_actions:\n",
    "        source += [round(float(agent.predict(state,action)),2)]\n",
    "    best_action = agent.max_action(state,env.possible_actions)\n",
    "    \n",
    "    #print(env.possible_actions)\n",
    "    #source = DQN_agent.q_eval.predict(state[np.newaxis, :])\n",
    "    #best_action = DQN_agent.maxAction(state,env.possible_actions)\n",
    "    #print(\"Prediction of Agent:\\n\"+str(source[0][env.possible_actions]))\n",
    "    print(\"Prediction of Agent:\\n\"+str(source))\n",
    "    print(\"--> Choose: \"+str(best_action))\n",
    "    action = input() \n",
    "    try:\n",
    "        action = int(action)\n",
    "        if int(action) in env.possible_actions:\n",
    "            state, reward, done, info = env.step(int(action))\n",
    "            counter += 1            \n",
    "    except:\n",
    "        if action == 'b':\n",
    "            state, reward, done, info = env.step(int(best_action))\n",
    "            counter += 1\n",
    "        elif action == 'f':\n",
    "            #DQN_agent.execute(env)\n",
    "            agent.execute(env)\n",
    "            #agent.execute()\n",
    "            break\n",
    "        elif action == 'q':\n",
    "            print(\"Quit execution mode\")\n",
    "            break\n",
    "        elif action == 'r':\n",
    "            env.render()\n",
    "env.render()\n",
    "print(\"\\n\\n\")\n",
    "evaluation = evaluator.evaluate(env.get_stowage_plan())\n",
    "print(evaluation)\n",
    "print(\"\\n\\n\")\n",
    "print(env.loading_sequence)"
   ]
  },
  {
   "cell_type": "code",
   "execution_count": null,
   "metadata": {},
   "outputs": [],
   "source": []
  },
  {
   "cell_type": "code",
   "execution_count": null,
   "metadata": {},
   "outputs": [],
   "source": []
  },
  {
   "cell_type": "code",
   "execution_count": null,
   "metadata": {},
   "outputs": [],
   "source": []
  },
  {
   "cell_type": "code",
   "execution_count": null,
   "metadata": {},
   "outputs": [],
   "source": []
  },
  {
   "cell_type": "code",
   "execution_count": null,
   "metadata": {},
   "outputs": [],
   "source": []
  },
  {
   "cell_type": "code",
   "execution_count": null,
   "metadata": {},
   "outputs": [],
   "source": []
  },
  {
   "cell_type": "code",
   "execution_count": null,
   "metadata": {},
   "outputs": [],
   "source": []
  },
  {
   "cell_type": "code",
   "execution_count": null,
   "metadata": {},
   "outputs": [],
   "source": []
  },
  {
   "cell_type": "code",
   "execution_count": null,
   "metadata": {},
   "outputs": [],
   "source": []
  },
  {
   "cell_type": "code",
   "execution_count": null,
   "metadata": {},
   "outputs": [],
   "source": []
  },
  {
   "cell_type": "code",
   "execution_count": null,
   "metadata": {},
   "outputs": [],
   "source": []
  },
  {
   "cell_type": "code",
   "execution_count": null,
   "metadata": {},
   "outputs": [],
   "source": []
  },
  {
   "cell_type": "code",
   "execution_count": null,
   "metadata": {},
   "outputs": [],
   "source": []
  },
  {
   "cell_type": "code",
   "execution_count": null,
   "metadata": {},
   "outputs": [],
   "source": []
  },
  {
   "cell_type": "code",
   "execution_count": null,
   "metadata": {},
   "outputs": [],
   "source": []
  },
  {
   "cell_type": "code",
   "execution_count": null,
   "metadata": {},
   "outputs": [],
   "source": []
  },
  {
   "cell_type": "code",
   "execution_count": null,
   "metadata": {},
   "outputs": [],
   "source": []
  },
  {
   "cell_type": "code",
   "execution_count": null,
   "metadata": {},
   "outputs": [],
   "source": []
  },
  {
   "cell_type": "code",
   "execution_count": null,
   "metadata": {},
   "outputs": [],
   "source": []
  },
  {
   "cell_type": "code",
   "execution_count": null,
   "metadata": {},
   "outputs": [],
   "source": []
  },
  {
   "cell_type": "code",
   "execution_count": null,
   "metadata": {},
   "outputs": [],
   "source": []
  },
  {
   "cell_type": "code",
   "execution_count": null,
   "metadata": {},
   "outputs": [],
   "source": []
  },
  {
   "cell_type": "code",
   "execution_count": null,
   "metadata": {},
   "outputs": [],
   "source": []
  },
  {
   "cell_type": "code",
   "execution_count": null,
   "metadata": {},
   "outputs": [],
   "source": []
  }
 ],
 "metadata": {
  "kernelspec": {
   "display_name": "Python 3",
   "language": "python",
   "name": "python3"
  },
  "language_info": {
   "codemirror_mode": {
    "name": "ipython",
    "version": 3
   },
   "file_extension": ".py",
   "mimetype": "text/x-python",
   "name": "python",
   "nbconvert_exporter": "python",
   "pygments_lexer": "ipython3",
   "version": "3.7.3"
  }
 },
 "nbformat": 4,
 "nbformat_minor": 2
}
