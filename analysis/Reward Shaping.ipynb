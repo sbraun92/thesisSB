{
 "cells": [
  {
   "cell_type": "markdown",
   "metadata": {},
   "source": [
    "# Reward Shaping"
   ]
  },
  {
   "cell_type": "markdown",
   "metadata": {},
   "source": [
    "## 1. Imports"
   ]
  },
  {
   "cell_type": "markdown",
   "metadata": {},
   "source": [
    "Importing various modules to the notebook including the local modules from the repository:\n",
    " - simulation environment,\n",
    " - the Evaluator (to evaluate stowage Plans),\n",
    " - algorithms (specially to find the inversion number)\n",
    " - pandas (for statistics)\n",
    " - matplotlib and seaborn for visualisations"
   ]
  },
  {
   "cell_type": "code",
   "execution_count": 1,
   "metadata": {},
   "outputs": [],
   "source": [
    "import os\n",
    "import sys\n",
    "sys.path.insert(0, os.path.abspath('../'))\n",
    "\n",
    "import time\n",
    "\n",
    "\n",
    "from env import roroDeck\n",
    "from analysis import *\n",
    "from algorithms.Algorithms import calculate_degree_of_sort\n",
    "from valuation import evaluator as evm\n",
    "from valuation import evaluation\n",
    "\n",
    "import pandas as pd\n",
    "import numpy as np\n",
    "from tqdm import tqdm_notebook as tqdm\n",
    "import matplotlib.pyplot as plt\n",
    "import seaborn as sns\n",
    "\n",
    "#set output path for plots\n",
    "module_path = str(os.getcwd())+'\\\\out\\\\'\n",
    "os.makedirs(module_path, exist_ok=True)\n",
    "\n",
    "sns.set(style=\"whitegrid\")\n",
    "plt.rcParams[\"font.family\"] = \"Times New Roman\"\n",
    "plt.rcParams.update({'font.size': 12})\n",
    "plt.rcParams.update({'text.color' : \"black\",\n",
    "                     'axes.labelcolor' : \"black\"})\n",
    "plt.tight_layout()"
   ]
  },
  {
   "cell_type": "markdown",
   "metadata": {},
   "source": [
    "## 2. RewardShaping"
   ]
  },
  {
   "cell_type": "markdown",
   "metadata": {},
   "source": [
    "### 2.1 Create a meshgrid\n",
    "\n",
    "Method to create a set of "
   ]
  },
  {
   "cell_type": "code",
   "execution_count": 2,
   "metadata": {},
   "outputs": [],
   "source": [
    "# This creates a set of all combinations of w in given ranges\n",
    "def makeMeshGrid(w_mandatory_cargo,w_shifts,w_terminal_space, w_terminal_mand):\n",
    "    systems = np.array(np.meshgrid(w_mandatory_cargo, w_shifts, w_terminal_space, w_terminal_mand)).T.reshape(-1, 4)\n",
    "    \n",
    "    return systems"
   ]
  },
  {
   "cell_type": "markdown",
   "metadata": {},
   "source": [
    "### 2.2  Method to calculate 'Degree of Sort'\n",
    "\n",
    "The method `calculate_scores` calculates the \"degree of Sort\" as outlined in the thesis for a set of random stowage plan for a given grid (`systems`). "
   ]
  },
  {
   "cell_type": "markdown",
   "metadata": {},
   "source": [
    "Method to determine the degree of Sort."
   ]
  },
  {
   "cell_type": "code",
   "execution_count": 3,
   "metadata": {},
   "outputs": [],
   "source": [
    "#Loop over all combinations of w\n",
    "def calculate_scores(systems,n_stowage_plans,lanes=None, rows=None, time_info=True):\n",
    "    start_time = time.time()\n",
    "\n",
    "    all_observations = []\n",
    "    system_reward = []\n",
    "    for systemid in tqdm(range(len(systems)),leave=None):\n",
    "        system = systems[systemid]\n",
    "\n",
    "        cumulative_Rewards = np.zeros(n_stowage_plans)\n",
    "        evaluations = []\n",
    "        \n",
    "        \n",
    "        if lanes is not None and rows is not None:\n",
    "            env = roroDeck.RoRoDeck(True, lanes=lanes, rows=rows)\n",
    "        else:\n",
    "            env = roroDeck.RoRoDeck(True)\n",
    "            \n",
    "            \n",
    "            \n",
    "        env.reward_system = system\n",
    "        evaluator = evm.Evaluator(env.vehicle_data,env.grid)\n",
    "\n",
    "        unique_cumulRewards = set()\n",
    "        unique_eval = set()\n",
    "        \n",
    "        # Create random stowage plans\n",
    "        for i in range(n_stowage_plans):\n",
    "            total_Reward = 0\n",
    "            env.reset()\n",
    "            done = False\n",
    "\n",
    "            while not done:\n",
    "                action = env.action_space_sample()\n",
    "                observation_, reward, done, info = env.step(action)\n",
    "                total_Reward += reward\n",
    "\n",
    "            stowagePlan = env.get_stowage_plan()\n",
    "            evaluation = evaluator.evaluate(stowagePlan)\n",
    "\n",
    "            cumulative_Rewards[i] = total_Reward\n",
    "            if total_Reward not in unique_cumulRewards and \\\n",
    "                            evaluation not in unique_eval and \\\n",
    "                            evaluation.mandatory_cargo_loaded > 0.9:\n",
    "                evaluations += [(total_Reward,evaluation)]\n",
    "\n",
    "\n",
    "            unique_eval.add(evaluation)\n",
    "            unique_cumulRewards.add(total_Reward)\n",
    "\n",
    "        #Sort to Cumulative Reward\n",
    "        evaluations.sort(key=lambda tup:tup[0])\n",
    "        #Mark this Sequence\n",
    "        sorted_cumul_Rewards = []\n",
    "        for ix,a in enumerate(evaluations):\n",
    "            sorted_cumul_Rewards += [(ix,a[0],a[1])]\n",
    "\n",
    "        #Sort to true Evaluation\n",
    "        #An ideal reward system will have a perfectly sorted marked sequence\n",
    "        sorted_cumul_Rewards.sort(key=lambda tup: tup[2])\n",
    "\n",
    "        rewardSystemEval = np.array([i[0] for i in sorted_cumul_Rewards])\n",
    "\n",
    "        #Calculate absolute inversion numver (not needed) and the degree of the sort\n",
    "        try:\n",
    "            invNumber,degree = calculate_degree_of_sort(rewardSystemEval)\n",
    "        except:\n",
    "            degree = -1\n",
    "\n",
    "        obs = np.append(system,np.array(degree))\n",
    "\n",
    "        all_observations += [obs]\n",
    "        \n",
    "        df = pd.DataFrame(np.array(all_observations))\n",
    "        df = df.rename(columns={0: \"Mandatory Cargo\", 1: \"caused Shifts in %\", 2: \"unused Space\",\n",
    "                               3: \"unloaded mandatory cargo\", 4: \"Degree of Sort\"})\n",
    "        \n",
    "        system_reward += (system,sorted_cumul_Rewards)\n",
    "    \n",
    "    end_time = time.time() -start_time\n",
    "    if time_info:\n",
    "        print('Time passed: ',str(int(end_time/60)),' min ',str(round(end_time%60,2)),' sec')\n",
    "    \n",
    "    return df, system_reward"
   ]
  },
  {
   "cell_type": "markdown",
   "metadata": {},
   "source": [
    "Since the method `calculate_scores` is quite time intensive a nested gridsearch is executed. Firstly the realm of potential systems is identified by performing gridsearch over with a step size of 5. In a second step the grid search with the adjusted range for each variable and a smaller grid length."
   ]
  },
  {
   "cell_type": "code",
   "execution_count": 4,
   "metadata": {},
   "outputs": [],
   "source": [
    "# for reproducibility a random seed is set\n",
    "np.random.seed(0)"
   ]
  },
  {
   "cell_type": "code",
   "execution_count": 5,
   "metadata": {},
   "outputs": [],
   "source": [
    "range_mandatory_cargo = np.arange(-2, 20, 2)\n",
    "range_shifts = np.arange(-40, 0, 2)\n",
    "range_terminalSpace = np.arange(-21, 5, 2)\n",
    "range_terminalMand = np.arange(-60, -30, 2)\n",
    "\n",
    "#range_mandatory_cargo = np.arange(-2, 20, 4)\n",
    "#range_shifts = np.arange(-40, 0, 4)\n",
    "#range_terminalSpace = np.arange(-19, 5, 4)\n",
    "#range_terminalMand = np.arange(-60, -30, 4)\n",
    "\n",
    "\n",
    "systems = makeMeshGrid(range_mandatory_cargo,range_shifts,\n",
    "                       range_terminalSpace,range_terminalMand)\n",
    "\n",
    "#Set how many stowage plans should be evaluated for one combination of w\n",
    "#(the results should be more robust if this number is higher)\n",
    "number_stowage_plans = 40"
   ]
  },
  {
   "cell_type": "markdown",
   "metadata": {},
   "source": [
    "To get an overview on the structure of the resulting set of all combinations of $\\vec{w}$. The first few combinations are shown (each row is one vector $\\vec{w}_i$, the coloumns represent the elements of this vector i.e. $w_{ij}$)"
   ]
  },
  {
   "cell_type": "code",
   "execution_count": 6,
   "metadata": {},
   "outputs": [
    {
     "data": {
      "application/vnd.jupyter.widget-view+json": {
       "model_id": "",
       "version_major": 2,
       "version_minor": 0
      },
      "text/plain": [
       "HBox(children=(IntProgress(value=0, max=42900), HTML(value='')))"
      ]
     },
     "metadata": {},
     "output_type": "display_data"
    },
    {
     "name": "stdout",
     "output_type": "stream",
     "text": [
      "Time passed:  212  min  18.5  sec\n"
     ]
    }
   ],
   "source": [
    "score_of_all_Combinations, all_evaluations = calculate_scores(systems,number_stowage_plans, lanes=10,rows=14,time_info=True)\n"
   ]
  },
  {
   "cell_type": "code",
   "execution_count": 15,
   "metadata": {},
   "outputs": [],
   "source": [
    "df_bestScores = score_of_all_Combinations[score_of_all_Combinations['Degree of Sort']\n",
    "                                          >score_of_all_Combinations['Degree of Sort'].max()*0.95]"
   ]
  },
  {
   "cell_type": "code",
   "execution_count": 16,
   "metadata": {},
   "outputs": [
    {
     "data": {
      "text/plain": [
       "<Figure size 432x288 with 0 Axes>"
      ]
     },
     "metadata": {},
     "output_type": "display_data"
    },
    {
     "data": {
      "image/png": "[encoded data removed]",
      "text/plain": [
       "<Figure size 424.8x216 with 1 Axes>"
      ]
     },
     "metadata": {
      "needs_background": "light"
     },
     "output_type": "display_data"
    }
   ],
   "source": [
    "sns.despine(left=True)\n",
    "sns.set_context(\"paper\")\n",
    "#plt.rc('text.latex', preamble=r'\\usepackage[T1]{fontenc}')\n",
    "plt.rcParams[\"font.family\"] = \"Times New Roman\"\n",
    "plt.rcParams.update({'font.size': 11})\n",
    "plt.rcParams.update({'text.color' : \"black\",\n",
    "                     'axes.labelcolor' : \"black\"})\n",
    "\n",
    "#plt.tight_layout()\n",
    "\n",
    "#print(df_bestScores[['Loading','caused Shifts','unused Space','unloaded mandatory cargo']])\n",
    "\n",
    "fig = plt.figure(figsize=(5.9, 3.))\n",
    "\n",
    "\n",
    "x_labels = ['Is mandatory\\ncargo?','Caused\\na shift?',\n",
    "            'Free space\\nat terminal','Unloaded\\nmandatory cargo\\nat terminal']\n",
    "\n",
    "#plt.xlabel(fontsize=12)\n",
    "ax = sns.boxplot(data = df_bestScores[['Mandatory Cargo','caused Shifts in %','unused Space','unloaded mandatory cargo']],\n",
    "                palette=\"deep\")\n",
    "\n",
    "\n",
    "#ax.set_title(\"Boxplots of weights (only \" +\n",
    "#          \"systems with a D(F) = {}%)\".format(round(100*score_of_all_Combinations['Degree of Sort'].max()),2), fontsize=12)\n",
    "\n",
    "plt.ylabel(\"numeric value of weight\", fontsize=12)\n",
    "\n",
    "ax.set_xticklabels(x_labels, fontsize=12)\n",
    "#fig.autofmt_xdate()\n",
    "#save locally\n",
    "plt.savefig(module_path + '20201029MacrosearchL10R14.pdf', dpi=600, bbox_inches=\"tight\")\n",
    "plt.show()"
   ]
  },
  {
   "cell_type": "code",
   "execution_count": null,
   "metadata": {},
   "outputs": [],
   "source": [
    "heater = score_of_all_Combinations[score_of_all_Combinations['unused Space']==-1]\n",
    "heater = heater[heater['unloaded mandatory cargo']==-50]\n",
    "\n",
    "heater.head()"
   ]
  },
  {
   "cell_type": "code",
   "execution_count": null,
   "metadata": {
    "scrolled": true
   },
   "outputs": [],
   "source": [
    "df_bestScores\n",
    "\n",
    "#score_of_all_Combinations[score_of_all_Combinations['Degree of Sort'] == \n",
    "#                          score_of_all_Combinations['Degree of Sort'].max()]\n",
    "#score_of_all_Combinations.T[272]"
   ]
  },
  {
   "cell_type": "code",
   "execution_count": null,
   "metadata": {},
   "outputs": [],
   "source": [
    "fig, (ax1, ax2) = plt.subplots(1,2, sharey=True, figsize=(6.5, 3.5))\n",
    "\n",
    "#fig = plt.figure(figsize=(3.5, 3.5))\n",
    "\n",
    "heater1 = score_of_all_Combinations[score_of_all_Combinations['caused Shifts in %']==-12]\n",
    "heater1 = heater1[heater1['unused Space']==-1]\n",
    "\n",
    "heater2 = score_of_all_Combinations[score_of_all_Combinations['unused Space']==-1]\n",
    "heater2 = heater2[heater2['unloaded mandatory cargo']==-50]\n",
    "\n",
    "heat1 = heater1.pivot('Mandatory Cargo', 'unloaded mandatory cargo', 'Degree of Sort')\n",
    "heat2 = heater2.pivot('Mandatory Cargo', 'caused Shifts in %', 'Degree of Sort')\n",
    "\n",
    "\n",
    "vmin = min(heat1.values.min(), heat2.values.min())\n",
    "vmax = max(heat1.values.max(), heat2.values.max())\n",
    "\n",
    "\n",
    "\n",
    "#plt.title(\"HeatMap of weights (fixed weights: Loading : 0, unused Space: -1\" +\n",
    "#          \"systems with a D(F) {}%)\".format(round(100*df2['Degree of Sort'].max()),2))\n",
    "sns.heatmap(heat1, ax =ax1, cbar=False, vmin=vmin)\n",
    "\n",
    "sns.heatmap(heat2, ax =ax2, vmax=vmax)\n",
    "\n",
    "ax2.set_ylabel('')    \n",
    "\n",
    "#save locally\n",
    "fig.autofmt_xdate()\n",
    "\n",
    "plt.savefig(module_path + '29102020HeatMapL10R14.pdf')\n"
   ]
  },
  {
   "cell_type": "code",
   "execution_count": null,
   "metadata": {
    "scrolled": true
   },
   "outputs": [],
   "source": [
    "label_names =list(score_of_all_Combinations)\n",
    "\n",
    "print(label_names)\n",
    "\n",
    "numberOfStowagePlans = 100\n",
    "\n",
    "lanes_comb = [8,10,12]\n",
    "rows_comb = [11,12,13,14,15,16]\n",
    "#env = roroDeck.RoRoDeck()\n",
    "#print(env.lanes)\n",
    "#print(env.rows)\n",
    "#print(np.sum(env.total_capacity))\n",
    "#score_of_all_Combinations[score_of_all_Combinations['Degree of Sort']==1]\n",
    "\n"
   ]
  },
  {
   "cell_type": "code",
   "execution_count": null,
   "metadata": {
    "scrolled": true
   },
   "outputs": [],
   "source": [
    "new_systems = np.array([[2., -8., -0.5, -50],\n",
    "                        [2, -12., -1., -50.],\n",
    "                        [-5., -20., -35., -50.]])\n",
    "#routine to create labels\n",
    "labels = []\n",
    "for system in new_systems:\n",
    "    string = '['\n",
    "    for element in system:\n",
    "        string += str(element)\n",
    "        if not element == system[-1]:\n",
    "            string += '\\t'\n",
    "    string += ']'        \n",
    "    labels += [string]\n",
    "\n",
    "df_best_systems = pd.DataFrame()\n",
    "ax = None\n",
    "\n",
    "for system in tqdm(new_systems, desc='Calculated Systems'):\n",
    "    labels += [system]\n",
    "    lanes_comb = [10,12,14,16]\n",
    "    rows_comb = [12,14,16,20,24]\n",
    "    df_different_sizes = pd.DataFrame(columns=label_names)\n",
    "    capacities = set()\n",
    "    for lane in lanes_comb:\n",
    "        for row in rows_comb:\n",
    "            if row > lane:\n",
    "                capacity_value = np.sum(roroDeck.RoRoDeck(lanes=lane ,rows = row).total_capacity)\n",
    "                #prevent duplicate values\n",
    "                if capacity_value in capacities:\n",
    "                    break\n",
    "                else:\n",
    "                    capacities.add(capacity_value)\n",
    "                capacity = pd.DataFrame({'Capacity': [ capacity_value]})\n",
    "                a, _ = calculate_scores([system], numberOfStowagePlans,\n",
    "                                        lanes = lane, rows=row, time_info=False)\n",
    "                a = a.join(capacity,sort=True)\n",
    "                df_different_sizes = df_different_sizes.append(a, ignore_index = True, sort=True)\n",
    "    if ax is None:\n",
    "        ax = sns.lineplot(x='Capacity', y=\"Degree of Sort\",\n",
    "                 data=df_different_sizes)\n",
    "    else:\n",
    "        ax = sns.lineplot(x='Capacity', y=\"Degree of Sort\",\n",
    "                 data=df_different_sizes, ax=ax)\n",
    "\n",
    "ax.legend(labels,loc='lower right')\n",
    "#plt.savefig(module_path + 'CapacityConstency.pdf', dpi=600, bbox_inches=\"tight\")\n",
    "plt.show()"
   ]
  },
  {
   "cell_type": "code",
   "execution_count": null,
   "metadata": {},
   "outputs": [],
   "source": [
    "sns.pairplot(score_of_all_Combinations[score_of_all_Combinations['Degree of Sort']>=0.96])"
   ]
  },
  {
   "cell_type": "markdown",
   "metadata": {},
   "source": [
    "### 2.3 Reduction of search space\n",
    "\n",
    "From the previous result the areas to search for a vector $\\vec{w}$ is reduced."
   ]
  },
  {
   "cell_type": "code",
   "execution_count": null,
   "metadata": {},
   "outputs": [],
   "source": [
    "range_mandatory_cargo = np.arange(0, 15, 1)\n",
    "range_shifts = np.arange(-15, -5,1)\n",
    "range_terminalSpace = np.arange(-5, 0, 1)\n",
    "range_terminalMand = np.arange(-60, -30, 5)\n",
    "\n",
    "systems_reduced = makeMeshGrid(range_mandatory_cargo,range_shifts,\n",
    "                       range_terminalSpace,range_terminalMand)\n",
    "\n",
    "#Set how many stowage plans should be evaluated for one combination of w\n",
    "#(the results should be more robust if this number is higher)\n",
    "number_stowage_plans = 100"
   ]
  },
  {
   "cell_type": "code",
   "execution_count": null,
   "metadata": {
    "scrolled": true
   },
   "outputs": [],
   "source": [
    "score_of_all_Combinations_micro, _ = calculate_scores(systems_reduced,number_stowage_plans, lanes=8,rows=14)"
   ]
  },
  {
   "cell_type": "code",
   "execution_count": null,
   "metadata": {},
   "outputs": [],
   "source": [
    "df_bestScores_micro = score_of_all_Combinations_micro[score_of_all_Combinations_micro['Degree of Sort']\n",
    "                                          >score_of_all_Combinations_micro['Degree of Sort'].max()*0.90]"
   ]
  },
  {
   "cell_type": "code",
   "execution_count": null,
   "metadata": {},
   "outputs": [],
   "source": [
    "sns.despine(left=True)\n",
    "sns.set_context(\"paper\")\n",
    "#plt.rc('text.latex', preamble=r'\\usepackage[T1]{fontenc}')\n",
    "plt.rcParams[\"font.family\"] = \"Times New Roman\"\n",
    "plt.rcParams.update({'font.size': 11})\n",
    "plt.rcParams.update({'text.color' : \"black\",\n",
    "                     'axes.labelcolor' : \"black\"})\n",
    "\n",
    "#plt.tight_layout()\n",
    "\n",
    "#print(df_bestScores[['Loading','caused Shifts','unused Space','unloaded mandatory cargo']])\n",
    "\n",
    "fig = plt.figure(figsize=(5.9, 3.4))\n",
    "\n",
    "\n",
    "x_labels = ['Is mandatory\\ncargo?','Caused\\na shift?',\n",
    "            'Free space\\nat terminal','Unloaded\\nmandatory cargo\\nat terminal']\n",
    "\n",
    "#plt.xlabel(fontsize=12)\n",
    "ax = sns.boxplot(data = df_bestScores_micro[['Mandatory Cargo','caused Shifts in %','unused Space','unloaded mandatory cargo']],\n",
    "                palette=\"deep\")\n",
    "\n",
    "\n",
    "#ax.set_title(\"Boxplots of weights (only \" +\n",
    "#          \"systems with a D(F) = {}%)\".format(round(100*score_of_all_Combinations['Degree of Sort'].max()),2), fontsize=12)\n",
    "\n",
    "plt.ylabel(\"numeric value of weight\", fontsize=12)\n",
    "\n",
    "ax.set_xticklabels(x_labels, fontsize=12)\n",
    "#fig.autofmt_xdate()\n",
    "#save locally\n",
    "#plt.savefig(module_path + '20201029MicrosearchL08R14.pdf', dpi=600, bbox_inches=\"tight\")\n",
    "plt.show()"
   ]
  },
  {
   "cell_type": "code",
   "execution_count": null,
   "metadata": {},
   "outputs": [],
   "source": [
    "sns.pairplot(score_of_all_Combinations_micro[score_of_all_Combinations_micro['Degree of Sort']>=0.96])"
   ]
  },
  {
   "cell_type": "code",
   "execution_count": null,
   "metadata": {},
   "outputs": [],
   "source": [
    "fig = plt.figure(figsize=(3.5, 3.5))\n",
    "#plt.title(\"HeatMap of weights (fixed weights: Loading : 0, unused Space: -1\" +\n",
    "#          \"systems with a D(F) {}%)\".format(round(100*df2['Degree of Sort'].max()),2))\n",
    "heat = heater.pivot('caused Shifts in %', 'unloaded mandatory cargo', 'Degree of Sort')\n",
    "sns.heatmap(heat)\n",
    "\n",
    "#save locally\n",
    "fig.autofmt_xdate()\n",
    "\n",
    "#plt.savefig(module_path + 'HeatMap.pdf')\n"
   ]
  },
  {
   "cell_type": "code",
   "execution_count": null,
   "metadata": {},
   "outputs": [],
   "source": [
    "fig = plt.figure(figsize=(5.9, 3.5))\n",
    "#plt.title(\"HeatMap of weights (fixed weights: Loading : 0, unused Space: -1\" +\n",
    "#          \"systems with a D(F) {}%)\".format(round(100*df2['Degree of Sort'].max()),2))\n",
    "heat = heater.pivot('caused Shifts in %', 'unloaded mandatory cargo', 'Degree of Sort')\n",
    "sns.kdeplot(heat)\n",
    "\n",
    "#save locally\n",
    "fig.autofmt_xdate()\n",
    "\n",
    "plt.savefig(module_path + 'KDE.pdf')\n"
   ]
  },
  {
   "cell_type": "code",
   "execution_count": null,
   "metadata": {},
   "outputs": [],
   "source": [
    "q25_Loading = df_bestScores[label_names[0]].quantile(0.25)\n",
    "q75_Loading = df_bestScores[label_names[0]].quantile(0.75)\n",
    "\n",
    "q25_Shifts = df_bestScores[label_names[1]].quantile(0.25)\n",
    "q75_Shifts = df_bestScores[label_names[1]].quantile(0.75)\n",
    "\n",
    "q25_terminalSpace = df_bestScores[label_names[2]].quantile(0.25)\n",
    "q75_terminalSpace = df_bestScores[label_names[2]].quantile(0.75)\n",
    "\n",
    "q25_terminalMand = df_bestScores[label_names[3]].quantile(0.25)\n",
    "q75_terminalMand = df_bestScores[label_names[3]].quantile(0.75)\n",
    "\n",
    "print(df_bestScores)"
   ]
  },
  {
   "cell_type": "code",
   "execution_count": null,
   "metadata": {},
   "outputs": [],
   "source": [
    "df_test = pd.DataFrame(systems).head()"
   ]
  },
  {
   "cell_type": "markdown",
   "metadata": {},
   "source": [
    "Thus the reward system implemented in this thesis is $\\vec{w} = \\Big[2 \\ \\ \\ -12\\ \\ \\  -1\\ \\ \\  -50\\Big]$"
   ]
  },
  {
   "cell_type": "code",
   "execution_count": null,
   "metadata": {},
   "outputs": [],
   "source": []
  },
  {
   "cell_type": "code",
   "execution_count": null,
   "metadata": {},
   "outputs": [],
   "source": [
    "b = 4447\n",
    "\n",
    "rewards_semi_ordered_b = [y[1] for y in all_evaluations[b*2+1]]\n",
    "rewards_semi_ordered_b = (rewards_semi_ordered_b - np.min(rewards_semi_ordered_b)) \\\n",
    "                        /(np.max(rewards_semi_ordered_b)-np.min(rewards_semi_ordered_b))\n",
    "\n",
    "diff_b = np.diff(rewards_semi_ordered_b)\n",
    "\n",
    "fig, axs = plt.subplots(2, sharex=True, figsize=(2.6, 4))\n",
    "plt.setp(axs[0].get_xticklabels(), visible=True)\n",
    "\n",
    "axs[0].plot(rewards_semi_ordered_b)\n",
    "axs[0].set_title('Rewards of ordered ESP')\n",
    "\n",
    "axs[1].stem(diff_b, use_line_collection=True)\n",
    "axs[1].set(xlabel='ordered ESP')\n",
    "fig.savefig(module_path + 'RewardSystem_b.pdf', dpi=600, bbox_inches=\"tight\")\n",
    "plt.show()\n",
    "\n"
   ]
  },
  {
   "cell_type": "code",
   "execution_count": null,
   "metadata": {},
   "outputs": [],
   "source": []
  },
  {
   "cell_type": "code",
   "execution_count": null,
   "metadata": {},
   "outputs": [],
   "source": [
    "a = 272\n",
    "\n",
    "rewards_semi_ordered_a = [y[1] for y in all_evaluations[a*2+1]]\n",
    "rewards_semi_ordered_a = (rewards_semi_ordered_a - np.min(rewards_semi_ordered_a)) \\\n",
    "                        /(np.max(rewards_semi_ordered_a)-np.min(rewards_semi_ordered_a))\n",
    "\n",
    "diff_a = np.diff(rewards_semi_ordered_a)\n",
    "\n",
    "#figsize=(5.9, 3.5)\n",
    "\n",
    "fig, axs = plt.subplots(2, sharex=True, figsize=(2.6, 4))\n",
    "plt.setp(axs[0].get_xticklabels(), visible=True)\n",
    "\n",
    "axs[0].plot(rewards_semi_ordered_a)\n",
    "axs[0].set_title('Rewards of ordered ESP')\n",
    "axs[0].set(ylabel='reward\\n(normalised)')\n",
    "\n",
    "axs[1].stem(diff_a, use_line_collection=True)\n",
    "axs[1].set(xlabel='ordered ESP', ylabel='reward difference\\nof ordered ESP')\n",
    "axs[1].set(xlabel='ordered ESP')\n",
    "fig.savefig(module_path + 'RewardSystem_a.pdf', dpi=600, bbox_inches=\"tight\")\n",
    "plt.show()\n"
   ]
  },
  {
   "cell_type": "code",
   "execution_count": null,
   "metadata": {},
   "outputs": [],
   "source": [
    "#TODO delete [0]\n",
    "score_of_all_Combinations_micro\n",
    "\n",
    "df2_bestScores = score_of_all_Combinations_micro[score_of_all_Combinations_micro['Degree of Sort']\n",
    "                                          ==score_of_all_Combinations_micro['Degree of Sort'].max()]"
   ]
  },
  {
   "cell_type": "code",
   "execution_count": null,
   "metadata": {},
   "outputs": [],
   "source": []
  },
  {
   "cell_type": "code",
   "execution_count": null,
   "metadata": {},
   "outputs": [],
   "source": [
    "fig = plt.figure(figsize=(5.9, 3.8))\n",
    "\n",
    "\n",
    "x_labels = ['Loading','number of\\nShifts','Space\\nutilisation', 'mandatory\\ncargo']\n",
    "\n",
    "#plt.xlabel(fontsize=12)\n",
    "ax = sns.boxplot(data = df2_bestScores[['Mandatory Cargo','caused Shifts in %','unused Space','unloaded mandatory cargo']],\n",
    "                palette=\"deep\")\n",
    "\n",
    "\n",
    "ax.set_title(\"Boxplots of weights (only \" +\n",
    "          \"systems with a D(F) = {}%)\".format(round(100*score_of_all_Combinations['Degree of Sort'].max()),2), fontsize=12)\n",
    "\n",
    "plt.ylabel(\"numeric value of weight\", fontsize=12)\n",
    "ax.set_xticklabels(x_labels, fontsize=12)\n",
    "#fig.autofmt_xdate()\n",
    "#save locally\n",
    "plt.savefig(module_path + '20201007Miccrosearch.pdf', dpi=600, bbox_inches=\"tight\")\n",
    "\n",
    "plt.show()"
   ]
  },
  {
   "cell_type": "code",
   "execution_count": null,
   "metadata": {},
   "outputs": [],
   "source": [
    "df2_bestScores"
   ]
  },
  {
   "cell_type": "code",
   "execution_count": null,
   "metadata": {},
   "outputs": [],
   "source": [
    "heater = heater[['caused Shifts in %','unloaded mandatory cargo','Degree of Sort']]"
   ]
  },
  {
   "cell_type": "code",
   "execution_count": null,
   "metadata": {},
   "outputs": [],
   "source": [
    "#TODO statt heat map correlations graph"
   ]
  },
  {
   "cell_type": "code",
   "execution_count": null,
   "metadata": {},
   "outputs": [],
   "source": [
    "#Private stuff\n",
    "\n",
    "#score_of_all_Combinations[score_of_all_Combinations['Degree of Sort']==score_of_all_Combinations['Degree of Sort'].quantile(1)]"
   ]
  },
  {
   "cell_type": "code",
   "execution_count": null,
   "metadata": {},
   "outputs": [],
   "source": [
    "a = 2034\n",
    "a = 853\n",
    "\n",
    "rewards_semi_ordered_a = [y[1] for y in all_evaluations[a*2+1]]\n",
    "rewards_semi_ordered_a = (rewards_semi_ordered_a - np.min(rewards_semi_ordered_a)) \\\n",
    "                        /(np.max(rewards_semi_ordered_a)-np.min(rewards_semi_ordered_a))\n",
    "\n",
    "diff_a = np.diff(rewards_semi_ordered_a)\n",
    "\n",
    "#figsize=(5.9, 3.5)\n",
    "\n",
    "fig, axs = plt.subplots(2, sharex=True, figsize=(2.6, 4))\n",
    "plt.setp(axs[0].get_xticklabels(), visible=True)\n",
    "\n",
    "axs[0].plot(rewards_semi_ordered_a)\n",
    "axs[0].set_title('Rewards of ordered ESP')\n",
    "#axs[0].set(ylabel='reward\\n(normalised)')\n",
    "\n",
    "axs[1].stem(diff_a, use_line_collection=True)\n",
    "#axs[1].set(xlabel='ordered ESP', ylabel='reward difference\\nof ordered ESP')\n",
    "axs[1].set(xlabel='ordered ESP')\n",
    "fig.savefig(module_path + 'RewardSystem_b.pdf', dpi=600, bbox_inches=\"tight\")\n",
    "plt.show()\n"
   ]
  },
  {
   "cell_type": "code",
   "execution_count": null,
   "metadata": {},
   "outputs": [],
   "source": [
    "numberOfStowagePlans = 20\n",
    "score_of_all_Combinations_micro, _ = calculateScore(np.array(df2_bestScores.drop(['Degree of Sort'], axis=1)),\n",
    "                                                    numberOfStowagePlans, lanes = 12, rows=20)"
   ]
  },
  {
   "cell_type": "code",
   "execution_count": 21,
   "metadata": {},
   "outputs": [
    {
     "data": {
      "text/plain": [
       "25"
      ]
     },
     "execution_count": 21,
     "metadata": {},
     "output_type": "execute_result"
    }
   ],
   "source": []
  },
  {
   "cell_type": "code",
   "execution_count": null,
   "metadata": {},
   "outputs": [],
   "source": []
  }
 ],
 "metadata": {
  "kernelspec": {
   "display_name": "Python 3",
   "language": "python",
   "name": "python3"
  },
  "language_info": {
   "codemirror_mode": {
    "name": "ipython",
    "version": 3
   },
   "file_extension": ".py",
   "mimetype": "text/x-python",
   "name": "python",
   "nbconvert_exporter": "python",
   "pygments_lexer": "ipython3",
   "version": "3.7.3"
  }
 },
 "nbformat": 4,
 "nbformat_minor": 2
}
