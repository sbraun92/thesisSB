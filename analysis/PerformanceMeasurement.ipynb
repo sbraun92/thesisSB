{
 "cells": [
  {
   "cell_type": "code",
   "execution_count": 1,
   "metadata": {},
   "outputs": [],
   "source": [
    "import os\n",
    "import sys\n",
    "sys.path.insert(0, os.path.abspath('../'))\n",
    "module_path = str(os.getcwd())+'\\\\out\\\\'\n",
    "\n",
    "from env import roroDeck\n",
    "from agent import sarsa, tdq\n",
    "from analysis import *\n",
    "from algorithms import Algorithms\n",
    "from valuation import evaluator as evm\n",
    "#from valuation import evaluation\n",
    "#from viz import *\n",
    "\n",
    "import numpy as np\n",
    "import seaborn as sns\n",
    "import matplotlib.pyplot as plt\n",
    "sns.set_style(\"whitegrid\")\n",
    "from datetime import datetime\n",
    "\n",
    "\n",
    "sns.set(style=\"whitegrid\")\n",
    "#sns.set(font_scale=1, rc={'text.usetex' : True})\n",
    "plt.rcParams[\"font.family\"] = \"Times New Roman\"\n",
    "plt.rcParams.update({'font.size': 11})\n",
    "plt.rcParams.update({'text.color' : \"black\",\n",
    "                     'axes.labelcolor' : \"black\"})\n",
    "plt.tight_layout()"
   ]
  },
  {
   "cell_type": "code",
   "execution_count": 2,
   "metadata": {},
   "outputs": [],
   "source": [
    "n_evaluations = 400\n",
    "time_out = 50_000"
   ]
  },
  {
   "cell_type": "markdown",
   "metadata": {},
   "source": [
    "Construct a set with **400** (`n_evaluations`) unique stowage plan evaluations.\n",
    "These evaluations are based on randomly generated stowage plans by the RORO-deck environment.\n",
    "\n",
    "If the evaluation of a randomly generated stowage plan is equivalent to another evaluation within the set this stowage plan is discarded.\n",
    "If the this size is not reached within **50_000** (`time_out`) iterations than this procedure is stopped."
   ]
  },
  {
   "cell_type": "markdown",
   "metadata": {},
   "source": [
    "The next step loads a model and prints the parameter on how this model was generated.\n",
    "\n",
    "*Note: TD-Q-Learning and SARSA agents have an equivalent execution method therefore it does not matter which agent is initalised.*"
   ]
  },
  {
   "cell_type": "code",
   "execution_count": 3,
   "metadata": {},
   "outputs": [
    {
     "name": "stdout",
     "output_type": "stream",
     "text": [
      "Algorithm\t\tTime Difference Q-Learning\n",
      "GAMMA\t\t0.999\n",
      "ALPHA\t\t0.1\n",
      "Episodes\t\t1000000\n",
      "EnvLanes:\t\t8\n",
      "EnvRows\t\t10\n",
      "VehicleData\t\t[[ 0  1  2  3  4]\n",
      " [ 5  5 -1 -1  2]\n",
      " [ 1  1  0  0  1]\n",
      " [ 1  2  1  2  2]\n",
      " [ 2  3  2  3  2]\n",
      " [ 0  0  0  0  1]]\n",
      "TrainingTime\t\t4603.0916357040405\n"
     ]
    }
   ],
   "source": [
    "env = roroDeck.RoRoDeck(True, lanes=8, rows=10, stochastic = True)\n",
    "evaluator = evm.Evaluator(env.vehicle_data, env.grid)\n",
    "\n",
    "#agent = sarsa.SARSA(env, module_path)\n",
    "agent = tdq.TDQLearning(env, module_path)\n",
    "\n",
    "agent.load_model(module_path+\"QLearning_ABGABE_20200911\\\\1143\\\\1143TDQ_L8_R10_Rf1_A5.p\")\n",
    "\n",
    "for info in agent.q_table[\"ModelParam\"]:\n",
    "    print(str(info)+'\\t\\t'+str(agent.q_table[\"ModelParam\"][info]))\n"
   ]
  },
  {
   "cell_type": "code",
   "execution_count": null,
   "metadata": {},
   "outputs": [],
   "source": []
  },
  {
   "cell_type": "code",
   "execution_count": 4,
   "metadata": {
    "scrolled": true
   },
   "outputs": [],
   "source": [
    "def get_sorted_random_stowage_plans():\n",
    "    random_stowage_plans = set()\n",
    "    #env = roroDeck.RoRoDeck(True, lanes=10, rows=14)\n",
    "    #env = agent.env\n",
    "    i = 0\n",
    "    while len(random_stowage_plans) < n_evaluations and i < time_out:\n",
    "        done = False\n",
    "        env.reset()\n",
    "        while not done:\n",
    "            state, reward, done, info = env.step(env.action_space_sample())\n",
    "        evaluation = evaluator.evaluate(env.get_stowage_plan())\n",
    "        random_stowage_plans.add(evaluation)\n",
    "        i+=1\n",
    "        if i%500 == 0:\n",
    "            print(str(i)\n",
    "                  + ' of {}\\t unique stowage plan evaluations:\\t'.format(time_out)\n",
    "                  + str(len(random_stowage_plans)))\n",
    "    if i == time_out:\n",
    "        print('\\n\\nWARNING:\\tCould not construct {} evaluations.'.format(n_evaluations))\n",
    "        print('\\t\\tActual number is {}'.format(len(random_stowage_plans)))\n",
    "\n",
    "    random_stowage_plans = list(random_stowage_plans)\n",
    "    random_stowage_plans.sort()\n",
    "    return random_stowage_plans"
   ]
  },
  {
   "cell_type": "code",
   "execution_count": 5,
   "metadata": {},
   "outputs": [],
   "source": [
    "def valuate_model(env_local, plans, n=10, info=False):\n",
    "    performance = []\n",
    "    for i in range(n):\n",
    "        env_local.reset()\n",
    "        #agent.env = env_local\n",
    "        agent.execute()\n",
    "        evaluation = evaluator.evaluate(env_local.get_stowage_plan())\n",
    "        plans_val = plans.copy()\n",
    "        plans_val.append(evaluation)\n",
    "        plans_val = list(dict.fromkeys(plans_val))\n",
    "        \n",
    "        plans_val.sort()\n",
    "\n",
    "        \n",
    "        \n",
    "        if len(plans_val) == len(plans)+1:\n",
    "            plans_val = plans_val[1:]\n",
    "        \n",
    "        \n",
    "        \n",
    "        #at which postion is the stowage plan of the agent. (maximal Performance 100%)\n",
    "        for ix,i in enumerate(plans_val):\n",
    "            if i == evaluation:\n",
    "                if info:\n",
    "                    print(str(ix+1)+\". Position of \"+str(len(plans_val))+ \\\n",
    "                      \"\\t Performance of model: \"+str((ix+1)/(len(plans_val))))\n",
    "                performance += [(ix+1)/(len(plans_val))]\n",
    "                break\n",
    "        \n",
    "    return np.array(performance)"
   ]
  },
  {
   "cell_type": "markdown",
   "metadata": {},
   "source": [
    "## Create Random Stowage Plans"
   ]
  },
  {
   "cell_type": "code",
   "execution_count": 6,
   "metadata": {},
   "outputs": [
    {
     "name": "stdout",
     "output_type": "stream",
     "text": [
      "500 of 50000\t unique stowage plan evaluations:\t200\n",
      "1000 of 50000\t unique stowage plan evaluations:\t256\n",
      "1500 of 50000\t unique stowage plan evaluations:\t306\n",
      "2000 of 50000\t unique stowage plan evaluations:\t327\n",
      "2500 of 50000\t unique stowage plan evaluations:\t352\n",
      "3000 of 50000\t unique stowage plan evaluations:\t382\n"
     ]
    }
   ],
   "source": [
    "random_plans = get_sorted_random_stowage_plans()"
   ]
  },
  {
   "cell_type": "code",
   "execution_count": 7,
   "metadata": {},
   "outputs": [
    {
     "name": "stdout",
     "output_type": "stream",
     "text": [
      "Rank at 99%:\n",
      "Mean:\t 0.9950249999999999 \n",
      "Std.:\t 0.00043229041164476797\n"
     ]
    }
   ],
   "source": [
    "env.p = 0.99\n",
    "performance99 = valuate_model(env,random_plans, n=100, info=False)\n",
    "print('Rank at 99%:\\nMean:\\t',performance99.mean(),'\\nStd.:\\t',performance99.std())"
   ]
  },
  {
   "cell_type": "code",
   "execution_count": 8,
   "metadata": {},
   "outputs": [
    {
     "name": "stdout",
     "output_type": "stream",
     "text": [
      "Rank at 95%:\n",
      "Mean:\t 0.96985 \n",
      "Std.:\t 0.07424942760722132\n"
     ]
    }
   ],
   "source": [
    "env.p = 0.95\n",
    "performance95 = valuate_model(env,random_plans, n=100, info=False)\n",
    "print('Rank at 95%:\\nMean:\\t',performance95.mean(),'\\nStd.:\\t',performance95.std())"
   ]
  },
  {
   "cell_type": "code",
   "execution_count": 9,
   "metadata": {},
   "outputs": [
    {
     "name": "stdout",
     "output_type": "stream",
     "text": [
      "Lowest Rank\n",
      "at 99%:\t 0.9925 \n",
      "at 95%:\t 0.69\n"
     ]
    }
   ],
   "source": [
    "print('Lowest Rank\\nat 99%:\\t',performance99.min(),'\\nat 95%:\\t',performance95.min())"
   ]
  },
  {
   "cell_type": "code",
   "execution_count": 10,
   "metadata": {},
   "outputs": [],
   "source": [
    "from scipy.stats import ranksums\n",
    "from scipy.stats import mannwhitneyu, kruskal"
   ]
  },
  {
   "cell_type": "code",
   "execution_count": 11,
   "metadata": {},
   "outputs": [],
   "source": [
    "a = np.linspace(0.6,0,40)"
   ]
  },
  {
   "cell_type": "code",
   "execution_count": 12,
   "metadata": {},
   "outputs": [
    {
     "name": "stdout",
     "output_type": "stream",
     "text": [
      "Process 0.0%\t\tCurrent env.p=0.6\n",
      "\t\t\tMann-Whitney-U p_value: 0.0\n",
      "Process 2.5%\t\tCurrent env.p=0.5846\n",
      "\t\t\tMann-Whitney-U p_value: 0.0\n",
      "Process 5.0%\t\tCurrent env.p=0.5692\n",
      "\t\t\tMann-Whitney-U p_value: 0.0\n",
      "Process 7.5%\t\tCurrent env.p=0.5538\n",
      "\t\t\tMann-Whitney-U p_value: 0.0\n",
      "Process 10.0%\t\tCurrent env.p=0.5385\n",
      "\t\t\tMann-Whitney-U p_value: 0.0\n",
      "Process 12.5%\t\tCurrent env.p=0.5231\n",
      "\t\t\tMann-Whitney-U p_value: 0.0\n",
      "Process 15.0%\t\tCurrent env.p=0.5077\n",
      "\t\t\tMann-Whitney-U p_value: 0.0\n",
      "Process 17.5%\t\tCurrent env.p=0.4923\n",
      "\t\t\tMann-Whitney-U p_value: 0.0\n",
      "Process 20.0%\t\tCurrent env.p=0.4769\n",
      "\t\t\tMann-Whitney-U p_value: 0.0\n",
      "Process 22.5%\t\tCurrent env.p=0.4615\n",
      "\t\t\tMann-Whitney-U p_value: 0.0\n",
      "Process 25.0%\t\tCurrent env.p=0.4462\n"
     ]
    },
    {
     "ename": "KeyboardInterrupt",
     "evalue": "",
     "output_type": "error",
     "traceback": [
      "\u001b[1;31m---------------------------------------------------------------------------\u001b[0m",
      "\u001b[1;31mKeyboardInterrupt\u001b[0m                         Traceback (most recent call last)",
      "\u001b[1;32m<ipython-input-12-873f13355463>\u001b[0m in \u001b[0;36m<module>\u001b[1;34m\u001b[0m\n\u001b[0;32m      9\u001b[0m     \u001b[1;32mwhile\u001b[0m \u001b[0mlen\u001b[0m\u001b[1;33m(\u001b[0m\u001b[0mbest_sp\u001b[0m\u001b[1;33m)\u001b[0m\u001b[1;33m<\u001b[0m\u001b[1;36m100\u001b[0m\u001b[1;33m:\u001b[0m\u001b[1;33m\u001b[0m\u001b[1;33m\u001b[0m\u001b[0m\n\u001b[0;32m     10\u001b[0m         \u001b[0menv\u001b[0m\u001b[1;33m.\u001b[0m\u001b[0mreset\u001b[0m\u001b[1;33m(\u001b[0m\u001b[1;33m)\u001b[0m\u001b[1;33m\u001b[0m\u001b[1;33m\u001b[0m\u001b[0m\n\u001b[1;32m---> 11\u001b[1;33m         \u001b[0magent\u001b[0m\u001b[1;33m.\u001b[0m\u001b[0mexecute\u001b[0m\u001b[1;33m(\u001b[0m\u001b[1;33m)\u001b[0m\u001b[1;33m\u001b[0m\u001b[1;33m\u001b[0m\u001b[0m\n\u001b[0m\u001b[0;32m     12\u001b[0m         \u001b[0mevaluation\u001b[0m \u001b[1;33m=\u001b[0m \u001b[0mevaluator\u001b[0m\u001b[1;33m.\u001b[0m\u001b[0mevaluate\u001b[0m\u001b[1;33m(\u001b[0m\u001b[0menv\u001b[0m\u001b[1;33m.\u001b[0m\u001b[0mget_stowage_plan\u001b[0m\u001b[1;33m(\u001b[0m\u001b[1;33m)\u001b[0m\u001b[1;33m)\u001b[0m\u001b[1;33m\u001b[0m\u001b[1;33m\u001b[0m\u001b[0m\n\u001b[0;32m     13\u001b[0m         \u001b[1;32mif\u001b[0m \u001b[0mevaluation\u001b[0m \u001b[1;32mnot\u001b[0m \u001b[1;32min\u001b[0m \u001b[0mrandom\u001b[0m\u001b[1;33m:\u001b[0m\u001b[1;33m\u001b[0m\u001b[1;33m\u001b[0m\u001b[0m\n",
      "\u001b[1;32m~\\Documents\\Masterarbeit\\agent\\BasicAgent.py\u001b[0m in \u001b[0;36mexecute\u001b[1;34m(self, env)\u001b[0m\n\u001b[0;32m     72\u001b[0m         \u001b[1;32mwhile\u001b[0m \u001b[1;32mnot\u001b[0m \u001b[0mdone\u001b[0m\u001b[1;33m:\u001b[0m\u001b[1;33m\u001b[0m\u001b[1;33m\u001b[0m\u001b[0m\n\u001b[0;32m     73\u001b[0m             \u001b[0maction\u001b[0m \u001b[1;33m=\u001b[0m \u001b[0mself\u001b[0m\u001b[1;33m.\u001b[0m\u001b[0mmax_action\u001b[0m\u001b[1;33m(\u001b[0m\u001b[0mcurrent_state\u001b[0m\u001b[1;33m,\u001b[0m \u001b[0mself\u001b[0m\u001b[1;33m.\u001b[0m\u001b[0menv\u001b[0m\u001b[1;33m.\u001b[0m\u001b[0mpossible_actions\u001b[0m\u001b[1;33m)\u001b[0m\u001b[1;33m\u001b[0m\u001b[1;33m\u001b[0m\u001b[0m\n\u001b[1;32m---> 74\u001b[1;33m             \u001b[0mcurrent_state\u001b[0m\u001b[1;33m,\u001b[0m \u001b[0mreward\u001b[0m\u001b[1;33m,\u001b[0m \u001b[0mdone\u001b[0m\u001b[1;33m,\u001b[0m \u001b[0m_\u001b[0m \u001b[1;33m=\u001b[0m \u001b[0mself\u001b[0m\u001b[1;33m.\u001b[0m\u001b[0menv\u001b[0m\u001b[1;33m.\u001b[0m\u001b[0mstep\u001b[0m\u001b[1;33m(\u001b[0m\u001b[0maction\u001b[0m\u001b[1;33m)\u001b[0m\u001b[1;33m\u001b[0m\u001b[1;33m\u001b[0m\u001b[0m\n\u001b[0m\u001b[0;32m     75\u001b[0m             \u001b[1;32mif\u001b[0m \u001b[0mcurrent_state\u001b[0m\u001b[1;33m.\u001b[0m\u001b[0mtobytes\u001b[0m\u001b[1;33m(\u001b[0m\u001b[1;33m)\u001b[0m \u001b[1;32mnot\u001b[0m \u001b[1;32min\u001b[0m \u001b[0mself\u001b[0m\u001b[1;33m.\u001b[0m\u001b[0mq_table\u001b[0m\u001b[1;33m:\u001b[0m\u001b[1;33m\u001b[0m\u001b[1;33m\u001b[0m\u001b[0m\n\u001b[0;32m     76\u001b[0m                 \u001b[0mself\u001b[0m\u001b[1;33m.\u001b[0m\u001b[0mq_table\u001b[0m\u001b[1;33m[\u001b[0m\u001b[0mcurrent_state\u001b[0m\u001b[1;33m.\u001b[0m\u001b[0mtobytes\u001b[0m\u001b[1;33m(\u001b[0m\u001b[1;33m)\u001b[0m\u001b[1;33m]\u001b[0m \u001b[1;33m=\u001b[0m \u001b[0mnp\u001b[0m\u001b[1;33m.\u001b[0m\u001b[0mzeros\u001b[0m\u001b[1;33m(\u001b[0m\u001b[0mself\u001b[0m\u001b[1;33m.\u001b[0m\u001b[0maction_space_length\u001b[0m\u001b[1;33m)\u001b[0m\u001b[1;33m\u001b[0m\u001b[1;33m\u001b[0m\u001b[0m\n",
      "\u001b[1;32m~\\Documents\\Masterarbeit\\env\\roroDeck.py\u001b[0m in \u001b[0;36mstep\u001b[1;34m(self, action)\u001b[0m\n\u001b[0;32m    240\u001b[0m             \u001b[1;31m#TODO if still correct changed sequence of statements\u001b[0m\u001b[1;33m\u001b[0m\u001b[1;33m\u001b[0m\u001b[1;33m\u001b[0m\u001b[0m\n\u001b[0;32m    241\u001b[0m             \u001b[1;32mif\u001b[0m \u001b[0mself\u001b[0m\u001b[1;33m.\u001b[0m\u001b[0mstochastic\u001b[0m\u001b[1;33m:\u001b[0m\u001b[1;33m\u001b[0m\u001b[1;33m\u001b[0m\u001b[0m\n\u001b[1;32m--> 242\u001b[1;33m                 \u001b[1;32mif\u001b[0m \u001b[1;32mnot\u001b[0m \u001b[0mnp\u001b[0m\u001b[1;33m.\u001b[0m\u001b[0mrandom\u001b[0m\u001b[1;33m.\u001b[0m\u001b[0mchoice\u001b[0m\u001b[1;33m(\u001b[0m\u001b[1;33m[\u001b[0m\u001b[1;32mTrue\u001b[0m\u001b[1;33m,\u001b[0m \u001b[1;32mFalse\u001b[0m\u001b[1;33m]\u001b[0m\u001b[1;33m,\u001b[0m \u001b[1;36m1\u001b[0m\u001b[1;33m,\u001b[0m \u001b[0mp\u001b[0m\u001b[1;33m=\u001b[0m\u001b[1;33m[\u001b[0m\u001b[0mself\u001b[0m\u001b[1;33m.\u001b[0m\u001b[0mp\u001b[0m\u001b[1;33m,\u001b[0m \u001b[1;36m1\u001b[0m \u001b[1;33m-\u001b[0m \u001b[0mself\u001b[0m\u001b[1;33m.\u001b[0m\u001b[0mp\u001b[0m\u001b[1;33m]\u001b[0m\u001b[1;33m)\u001b[0m\u001b[1;33m:\u001b[0m\u001b[1;33m\u001b[0m\u001b[1;33m\u001b[0m\u001b[0m\n\u001b[0m\u001b[0;32m    243\u001b[0m                     \u001b[0maction\u001b[0m \u001b[1;33m=\u001b[0m \u001b[0mnp\u001b[0m\u001b[1;33m.\u001b[0m\u001b[0mrandom\u001b[0m\u001b[1;33m.\u001b[0m\u001b[0mchoice\u001b[0m\u001b[1;33m(\u001b[0m\u001b[0mself\u001b[0m\u001b[1;33m.\u001b[0m\u001b[0mpossible_actions\u001b[0m\u001b[1;33m)\u001b[0m\u001b[1;33m\u001b[0m\u001b[1;33m\u001b[0m\u001b[0m\n\u001b[0;32m    244\u001b[0m \u001b[1;33m\u001b[0m\u001b[0m\n",
      "\u001b[1;31mKeyboardInterrupt\u001b[0m: "
     ]
    }
   ],
   "source": [
    "random = random_plans.copy()\n",
    "for ix, temperature in enumerate(a):\n",
    "    print('Process {}%\\t\\tCurrent env.p={}'.format((round(ix*100/len(a),4)),(round(temperature,4))))\n",
    "\n",
    "    env.stochastic= True\n",
    "    env.p = temperature\n",
    "    best_sp = []\n",
    "\n",
    "    while len(best_sp)<100:\n",
    "        env.reset()\n",
    "        agent.execute()\n",
    "        evaluation = evaluator.evaluate(env.get_stowage_plan())\n",
    "        if evaluation not in random:\n",
    "            best_sp += [evaluation]\n",
    "            \n",
    "    dummy = random + best_sp\n",
    "    dummy.sort()\n",
    "    \n",
    "    random_ranks = []\n",
    "    agent_ranks = []\n",
    "    for ix, i in enumerate(dummy):\n",
    "        if i in best_sp:\n",
    "            agent_ranks+=[ix]\n",
    "        else:\n",
    "            random_ranks+=[ix]\n",
    "        \n",
    "    agent_ranks = np.array(agent_ranks)\n",
    "    random_ranks = np.array(random_ranks)\n",
    "    \n",
    "    _,p = mannwhitneyu(random_ranks, agent_ranks, alternative='two-sided')\n",
    "    print('\\t\\t\\tMann-Whitney-U p_value:',str(round(p,9)))\n",
    "    if p > 0.01:\n",
    "        print('critical p identified')\n",
    "        break\n",
    "    \n",
    "_,p = mannwhitneyu(random_ranks, agent_ranks, alternative='two-sided')\n",
    "print(temperature)\n",
    "print(mannwhitneyu(random_ranks, agent_ranks, alternative='two-sided'))\n",
    "print(ranksums(random_ranks,agent_ranks))\n",
    "print(kruskal(random_ranks, agent_ranks))\n",
    "\n",
    "\n",
    "module_path = str(os.getcwd())+'\\\\out\\\\'\n",
    "os.makedirs(module_path, exist_ok=True)\n",
    "\n",
    "\n",
    "sns.set(style=\"whitegrid\")\n",
    "#sns.set(font_scale=1, rc={'text.usetex' : True})\n",
    "plt.rcParams[\"font.family\"] = \"Times New Roman\"\n",
    "plt.rcParams.update({'font.size': 11})\n",
    "plt.rcParams.update({'text.color' : \"black\",\n",
    "                     'axes.labelcolor' : \"black\"})\n",
    "plt.tight_layout()\n",
    "\n",
    "\n",
    "#fig, axs = plt.subplots(nrows=2, ncols=1, sharex=True, figsize=(2.6, 4))\n",
    "bw = 50\n",
    "\n",
    "fig = plt.figure(figsize=(5.1, 2.2))\n",
    "#fig = plt.figure(figsize=(7.9, 3.3))\n",
    "\n",
    "fig.tight_layout()\n",
    "gs = fig.add_gridspec(4, 3)\n",
    "\n",
    "fi_ax1 = fig.add_subplot(gs[0:3, :])\n",
    "fi_ax2 = fig.add_subplot(gs[3, :],sharex=fi_ax1)\n",
    "\n",
    "\n",
    "plt.setp(fi_ax1.get_xticklabels(), visible=False)\n",
    "plt.setp(fi_ax2.get_xticklabels(), visible=True)\n",
    "\n",
    "\n",
    "ax = sns.kdeplot(np.array(agent_ranks), bw=bw, clip=[0,len(dummy)],kernel='epa', ax=fi_ax1,label='Agent')\n",
    "ax = sns.kdeplot(np.array(random_ranks),ax=ax , bw=bw, clip=[0,len(dummy)],kernel='epa',label='Random')\n",
    "\n",
    "box = ax.get_position()\n",
    "ax.set_position([box.x0, box.y0, box.width * 0.8, box.height])\n",
    "\n",
    "ax.legend(loc='center left', bbox_to_anchor=(1, box.y0 +0.5* box.height), fontsize=11*(1/0.9))\n",
    "\n",
    "ax = sns.stripplot(np.array(agent_ranks),alpha=0.5, ax = fi_ax2,label='Agent')\n",
    "ax = sns.stripplot(np.array(random_ranks),alpha=0.35, ax = ax, color=sns.color_palette(\"deep\")[1],label='Random')\n",
    "ax.set_xlim(-bw, len(dummy)+bw)\n",
    "\n",
    "box = ax.get_position()\n",
    "ax.set_position([box.x0, box.y0, box.width * 0.8, box.height])\n",
    "\n",
    "# Put a legend below current axis\n",
    "#leg = ax.legend(loc='upper left', bbox_to_anchor=(-0.013, -0.6),\n",
    "#          fancybox=True, shadow=False, ncol=1, fontsize=11*(1/0.9))\n",
    "#for lh in leg.legendHandles: \n",
    "#    lh.set_alpha(1)\n",
    "\n",
    "    \n",
    "fi_ax1.set(ylabel='Density')\n",
    "fi_ax2.set(xlabel='Ranks')\n",
    "#fi_ax2.xaxis.set_label_coords(0.96, -0.72)\n",
    "#plt.suptitle('Rank Comparison of stowage plans',x=0.5*0.9)\n",
    "#plt.tight_layout()\n",
    "\n",
    "\n",
    "plt.savefig(module_path + '\\\\denisity_p'+str(round(temperature,4))+'prozent_bw50.pdf', dpi=600, bbox_inches=\"tight\")"
   ]
  },
  {
   "cell_type": "code",
   "execution_count": null,
   "metadata": {},
   "outputs": [],
   "source": [
    "time1=datetime.now()\n",
    "means = []\n",
    "std = []\n",
    "x = np.linspace(0,1,21)\n",
    "for ix,i in enumerate(x):\n",
    "    print('Process {}%'.format(round(ix*100/len(x),4)))\n",
    "    env.p = i\n",
    "    performance = valuate_model(env,random_plans, n=100)\n",
    "    means += [performance.mean()]\n",
    "    std += [performance.std()]\n",
    "    \n",
    "plt.plot(x, means)\n",
    "plt.show()\n",
    "print('This took:',datetime.now()-time1,'s')"
   ]
  },
  {
   "cell_type": "code",
   "execution_count": null,
   "metadata": {},
   "outputs": [],
   "source": []
  },
  {
   "cell_type": "code",
   "execution_count": null,
   "metadata": {},
   "outputs": [],
   "source": []
  },
  {
   "cell_type": "code",
   "execution_count": null,
   "metadata": {},
   "outputs": [],
   "source": [
    "env.stochastic= True\n",
    "env.p = 0.0\n",
    "best_sp = []\n",
    "\n",
    "while len(best_sp)<100:\n",
    "    env.reset()\n",
    "    agent.execute()\n",
    "    evaluation = evaluator.evaluate(env.get_stowage_plan())\n",
    "    if evaluation not in random:\n",
    "        best_sp += [evaluation]"
   ]
  },
  {
   "cell_type": "code",
   "execution_count": null,
   "metadata": {},
   "outputs": [],
   "source": [
    "dummy = random + best_sp\n",
    "dummy.sort()"
   ]
  },
  {
   "cell_type": "code",
   "execution_count": null,
   "metadata": {},
   "outputs": [],
   "source": [
    "random_ranks = []\n",
    "agent_ranks = []\n",
    "for ix, i in enumerate(dummy):\n",
    "    if i in best_sp:\n",
    "        agent_ranks+=[ix]\n",
    "    else:\n",
    "        random_ranks+=[ix]\n",
    "        \n",
    "agent_ranks = np.array(agent_ranks)\n",
    "random_ranks = np.array(random_ranks)"
   ]
  },
  {
   "cell_type": "code",
   "execution_count": null,
   "metadata": {},
   "outputs": [],
   "source": [
    "#print(mannwhitneyu(random_ranks, agent_ranks, alternative='two-sided'),'\\n')\n",
    "_,p = mannwhitneyu(random_ranks, agent_ranks, alternative='two-sided')\n",
    "print(p)\n",
    "print(mannwhitneyu(random_ranks, agent_ranks, alternative='two-sided'))\n",
    "print(ranksums(random_ranks,agent_ranks))\n",
    "print(kruskal(random_ranks, agent_ranks))"
   ]
  },
  {
   "cell_type": "code",
   "execution_count": null,
   "metadata": {},
   "outputs": [],
   "source": [
    "module_path = str(os.getcwd())+'\\\\out\\\\plots11092020'\n",
    "os.makedirs(module_path, exist_ok=True)\n",
    "\n",
    "\n",
    "sns.set(style=\"whitegrid\")\n",
    "#sns.set(font_scale=1, rc={'text.usetex' : True})\n",
    "plt.rcParams[\"font.family\"] = \"Times New Roman\"\n",
    "plt.rcParams.update({'font.size': 11})\n",
    "plt.rcParams.update({'text.color' : \"black\",\n",
    "                     'axes.labelcolor' : \"black\"})\n",
    "plt.tight_layout()\n",
    "\n",
    "\n",
    "#fig, axs = plt.subplots(nrows=2, ncols=1, sharex=True, figsize=(2.6, 4))\n",
    "bw = 50\n",
    "\n",
    "fig = plt.figure(figsize=(5.1, 2.2))\n",
    "#fig = plt.figure(figsize=(7.9, 3.3))\n",
    "\n",
    "fig.tight_layout()\n",
    "gs = fig.add_gridspec(4, 3)\n",
    "\n",
    "fi_ax1 = fig.add_subplot(gs[0:3, :])\n",
    "fi_ax2 = fig.add_subplot(gs[3, :],sharex=fi_ax1)\n",
    "\n",
    "\n",
    "plt.setp(fi_ax1.get_xticklabels(), visible=False)\n",
    "plt.setp(fi_ax2.get_xticklabels(), visible=True)\n",
    "\n",
    "\n",
    "ax = sns.kdeplot(np.array(agent_ranks), bw=bw, clip=[0,len(dummy)],kernel='epa', ax=fi_ax1,label='Agent')\n",
    "ax = sns.kdeplot(np.array(random_ranks),ax=ax , bw=bw, clip=[0,len(dummy)],kernel='epa',label='Random')\n",
    "\n",
    "box = ax.get_position()\n",
    "ax.set_position([box.x0, box.y0, box.width * 0.8, box.height])\n",
    "\n",
    "ax.legend(loc='center left', bbox_to_anchor=(1, box.y0 +0.5* box.height), fontsize=11*(1/0.9))\n",
    "\n",
    "ax = sns.stripplot(np.array(agent_ranks),alpha=0.5, ax = fi_ax2,label='Agent')\n",
    "ax = sns.stripplot(np.array(random_ranks),alpha=0.35, ax = ax, color=sns.color_palette(\"deep\")[1],label='Random')\n",
    "ax.set_xlim(-bw, len(dummy)+bw)\n",
    "\n",
    "box = ax.get_position()\n",
    "ax.set_position([box.x0, box.y0, box.width * 0.8, box.height])\n",
    "\n",
    "# Put a legend below current axis\n",
    "#leg = ax.legend(loc='upper left', bbox_to_anchor=(-0.013, -0.6),\n",
    "#          fancybox=True, shadow=False, ncol=1, fontsize=11*(1/0.9))\n",
    "#for lh in leg.legendHandles: \n",
    "#    lh.set_alpha(1)\n",
    "\n",
    "    \n",
    "fi_ax1.set(ylabel='Density')\n",
    "fi_ax2.set(xlabel='Ranks')\n",
    "#fi_ax2.xaxis.set_label_coords(0.96, -0.72)\n",
    "#plt.suptitle('Rank Comparison of stowage plans',x=0.5*0.9)\n",
    "#plt.tight_layout()\n",
    "\n",
    "\n",
    "plt.savefig(module_path + '\\\\denisity_p60prozent_bw50.pdf', dpi=600, bbox_inches=\"tight\")"
   ]
  },
  {
   "cell_type": "code",
   "execution_count": null,
   "metadata": {},
   "outputs": [],
   "source": [
    "agent = sarsa.SARSA(env, module_path)\n",
    "agent.load_model(module_path+\"20200729\\\\1827\\\\1827SARSA_L10_R14_Rf1_A5.p\")\n",
    "\n",
    "for info in agent.q_table[\"ModelParam\"]:\n",
    "    print(str(info)+'\\t\\t'+str(agent.q_table[\"ModelParam\"][info]))"
   ]
  },
  {
   "cell_type": "code",
   "execution_count": null,
   "metadata": {},
   "outputs": [],
   "source": [
    "env.stoachstic = True\n",
    "\n",
    "time1=datetime.now()\n",
    "means_2 = []\n",
    "x = np.linspace(0.5,1,15)\n",
    "for i in x:\n",
    "    env.p = i\n",
    "\n",
    "    means_2 += [valuate_model(env,stowage_Plans, n=10).mean()]\n",
    "\n",
    "    \n",
    "plt.plot(x, means)\n",
    "plt.show()\n",
    "print('This took:',datetime.now()-time1,'s')"
   ]
  },
  {
   "cell_type": "code",
   "execution_count": null,
   "metadata": {},
   "outputs": [],
   "source": [
    "env.stochastic= True\n",
    "env.p = .8\n",
    "env.reset()\n",
    "agent.execute()\n",
    "#print(env.loading_sequence)\n",
    "evaluation = evaluator.evaluate(env.get_stowage_plan())\n",
    "print(evaluation)\n",
    "stowage_Plans_XX = stowage_Plans.copy()\n",
    "stowage_Plans_XX += [evaluation]\n",
    "\n",
    "#remove duplicates\n",
    "stowage_Plans_XX = list(dict.fromkeys(stowage_Plans_XX))\n",
    "stowage_Plans_XX.sort()\n",
    "\n",
    "if len(stowage_Plans_XX) == len(stowage_Plans)+1:\n",
    "    stowage_Plans_XX = stowage_Plans_XX[1:]"
   ]
  },
  {
   "cell_type": "code",
   "execution_count": null,
   "metadata": {},
   "outputs": [],
   "source": [
    "#at which postion is the stowage plan of the agent. (maximal Performance 100%)\n",
    "for ix,i in enumerate(stowage_Plans_XX):\n",
    "    if i == evaluation:\n",
    "        print(str(ix+1)+\". Position of \"+str(len(stowage_Plans))+ \\\n",
    "              \"\\t Performance of model: \"+str((ix+1)/(len(stowage_Plans))))\n",
    "        break"
   ]
  },
  {
   "cell_type": "code",
   "execution_count": null,
   "metadata": {},
   "outputs": [],
   "source": []
  },
  {
   "cell_type": "code",
   "execution_count": null,
   "metadata": {},
   "outputs": [],
   "source": []
  },
  {
   "cell_type": "code",
   "execution_count": null,
   "metadata": {},
   "outputs": [],
   "source": []
  },
  {
   "cell_type": "code",
   "execution_count": null,
   "metadata": {},
   "outputs": [],
   "source": []
  },
  {
   "cell_type": "code",
   "execution_count": null,
   "metadata": {},
   "outputs": [],
   "source": [
    "agent = sarsa.SARSA(env, module_path)\n",
    "agent.load_model(module_path+\"20200729\\\\1827\\\\1827SARSA_L10_R14_Rf1_A5.p\")\n",
    "\n",
    "for info in agent.q_table[\"ModelParam\"]:\n",
    "    print(str(info)+'\\t\\t'+str(agent.q_table[\"ModelParam\"][info]))"
   ]
  },
  {
   "cell_type": "code",
   "execution_count": null,
   "metadata": {},
   "outputs": [],
   "source": [
    "module_path = str(os.getcwd())+'\\\\out\\\\plots'\n",
    "os.makedirs(module_path, exist_ok=True)\n",
    "\n",
    "\n",
    "sns.set(style=\"whitegrid\")\n",
    "#sns.set(font_scale=1, rc={'text.usetex' : True})\n",
    "plt.rcParams[\"font.family\"] = \"Times New Roman\"\n",
    "plt.rcParams.update({'font.size': 11})\n",
    "plt.rcParams.update({'text.color' : \"black\",\n",
    "                     'axes.labelcolor' : \"black\"})\n",
    "plt.tight_layout()\n",
    "\n",
    "\n",
    "#fig, axs = plt.subplots(nrows=2, ncols=1, sharex=True, figsize=(2.6, 4))\n",
    "bw = 50\n",
    "\n",
    "fig = plt.figure(figsize=(5.1, 2.7))\n",
    "#fig = plt.figure(figsize=(7.9, 3.3))\n",
    "\n",
    "fig.tight_layout()\n",
    "gs = fig.add_gridspec(4, 3)\n",
    "\n",
    "fi_ax1 = fig.add_subplot(gs[0:3, :])\n",
    "fi_ax2 = fig.add_subplot(gs[3, :],sharex=fi_ax1)\n",
    "\n",
    "\n",
    "plt.setp(fi_ax1.get_xticklabels(), visible=False)\n",
    "plt.setp(fi_ax2.get_xticklabels(), visible=True)\n",
    "\n",
    "\n",
    "ax = sns.kdeplot(np.array(agent_ranks), bw=bw, clip=[0,len(dummy)],kernel='epa', ax=fi_ax1)\n",
    "ax = sns.kdeplot(np.array(random_ranks),ax=ax , bw=bw, clip=[0,len(dummy)],kernel='epa')\n",
    "\n",
    "\n",
    "ax = sns.stripplot(np.array(agent_ranks),alpha=0.5, ax = fi_ax2,label='Agent')\n",
    "ax = sns.stripplot(np.array(random_ranks),alpha=0.35, ax = ax, color=sns.color_palette(\"deep\")[1],label='Random')\n",
    "ax.set_xlim(-bw, len(dummy)+bw)\n",
    "\n",
    "box = ax.get_position()\n",
    "ax.set_position([box.x0, box.y0 + box.height * 0.1,\n",
    "                 box.width, box.height * 0.9])\n",
    "\n",
    "# Put a legend below current axis\n",
    "leg = ax.legend(loc='upper left', bbox_to_anchor=(-0.013, -0.6),\n",
    "          fancybox=True, shadow=False, ncol=5, fontsize=11*(1/0.9))\n",
    "for lh in leg.legendHandles: \n",
    "    lh.set_alpha(1)\n",
    "\n",
    "    \n",
    "fi_ax1.set(ylabel='Density')\n",
    "fi_ax2.set(xlabel='Ranks')\n",
    "fi_ax2.xaxis.set_label_coords(0.96, -0.72)\n",
    "plt.suptitle('Rank Comparison of stowage plans')\n",
    "\n",
    "plt.savefig(module_path + '\\\\denisity_a.pdf', dpi=600, bbox_inches=\"tight\")"
   ]
  },
  {
   "cell_type": "code",
   "execution_count": null,
   "metadata": {},
   "outputs": [],
   "source": [
    "import seaborn as sns\n",
    "bw = 50\n",
    "sns.set_style('whitegrid')\n",
    "#ax = sns.distplot(np.array(agent_ranks), label='Agent')\n",
    "sns.stripplot(np.array(agent_ranks),alpha=0.5,dodge=True);\n",
    "#ax = sns.distplot(np.array(random_ranks),ax=ax, label='Random')\n",
    "sns.stripplot(np.array(random_ranks), color=\"orange\",alpha=0.5,dodge=True)\n",
    "plt.title('Density Estimation of Ranks')\n",
    "ax.set_xlim(-bw, len(dummy)+bw)\n",
    "plt.show()"
   ]
  },
  {
   "cell_type": "code",
   "execution_count": null,
   "metadata": {},
   "outputs": [],
   "source": [
    "import seaborn as sns\n",
    "bw = 50\n",
    "sns.set_style('whitegrid')\n",
    "#ax = sns.distplot(np.array(agent_ranks), label='Agent')\n",
    "sns.swarmplot(np.array(agent_ranks),alpha=0.5);\n",
    "#ax = sns.distplot(np.array(random_ranks),ax=ax, label='Random')\n",
    "sns.swarmplot(np.array(random_ranks), color=\"orange\",alpha=0.5)\n",
    "plt.title('Density Estimation of Ranks')\n",
    "ax.set_xlim(-bw, len(dummy)+bw)\n",
    "plt.show()"
   ]
  },
  {
   "cell_type": "code",
   "execution_count": null,
   "metadata": {},
   "outputs": [],
   "source": [
    "#fig, axs = plt.subplots(nrows=2, ncols=1, sharex=True, figsize=(2.6, 4))\n",
    "bw = 20\n",
    "\n",
    "fig = plt.figure(figsize=(8, 4))\n",
    "fig.tight_layout()\n",
    "gs = fig.add_gridspec(3, 3)\n",
    "\n",
    "fi_ax1 = fig.add_subplot(gs[0:2, :])\n",
    "fi_ax2 = fig.add_subplot(gs[2, :],sharex=fi_ax1)\n",
    "\n",
    "\n",
    "plt.setp(fi_ax1.get_xticklabels(), visible=False)\n",
    "plt.setp(fi_ax2.get_xticklabels(), visible=True)\n",
    "\n",
    "\n",
    "ax = sns.kdeplot(np.array(agent_ranks), bw=bw, clip=[0,len(dummy)],kernel='epa', ax=fi_ax1)\n",
    "ax = sns.kdeplot(np.array(random_ranks),ax=ax , bw=bw, clip=[0,len(dummy)],kernel='epa')\n",
    "\n",
    "\n",
    "ax = sns.swarmplot(np.array(agent_ranks),alpha=0.6, ax = fi_ax2,label='Agent')\n",
    "ax = sns.swarmplot(np.array(random_ranks),alpha=0.6, ax = ax, color=\"orange\",label='Random')\n",
    "ax.set_xlim(-bw, len(dummy)+bw)\n",
    "\n",
    "box = ax.get_position()\n",
    "ax.set_position([box.x0, box.y0 + box.height * 0.1,\n",
    "                 box.width, box.height * 0.9])\n",
    "\n",
    "# Put a legend below current axis\n",
    "leg = ax.legend(loc='upper left', bbox_to_anchor=(-0.013, -0.4),\n",
    "          fancybox=True, shadow=False, ncol=5)\n",
    "for lh in leg.legendHandles: \n",
    "    lh.set_alpha(1)"
   ]
  },
  {
   "cell_type": "code",
   "execution_count": null,
   "metadata": {},
   "outputs": [],
   "source": [
    "print(module_path)"
   ]
  },
  {
   "cell_type": "code",
   "execution_count": null,
   "metadata": {},
   "outputs": [],
   "source": []
  }
 ],
 "metadata": {
  "kernelspec": {
   "display_name": "Python 3",
   "language": "python",
   "name": "python3"
  },
  "language_info": {
   "codemirror_mode": {
    "name": "ipython",
    "version": 3
   },
   "file_extension": ".py",
   "mimetype": "text/x-python",
   "name": "python",
   "nbconvert_exporter": "python",
   "pygments_lexer": "ipython3",
   "version": "3.7.3"
  }
 },
 "nbformat": 4,
 "nbformat_minor": 2
}
